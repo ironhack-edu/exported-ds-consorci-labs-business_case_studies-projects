{
 "cells": [
  {
   "cell_type": "markdown",
   "id": "9eb0f57b",
   "metadata": {
    "lang": "en"
   },
   "source": [
    "# Functional Programming"
   ]
  },
  {
   "cell_type": "markdown",
   "id": "conceptual-behalf",
   "metadata": {},
   "source": [
    "![elgif](https://media.giphy.com/media/CuMiNoTRz2bYc/giphy.gif)\n",
    "\n",
    "La programación funcional es un paradigma de programación que trata el cálculo como la evaluación de funciones matemáticas y evita cambiar el estado y los datos mutables. Es un estilo de programación declarativo que se enfoca en expresar qué se debe hacer en lugar de cómo se debe hacer. En la programación funcional, las funciones son ciudadanos de primera clase, lo que significa que **pueden ser tratadas como cualquier otro tipo de dato, como enteros o cadenas.**\n",
    "\n",
    "La programación funcional enfatiza el uso de funciones puras, que son funciones que no tienen efectos secundarios y siempre producen el mismo resultado para el mismo input. Las funciones puras son deterministas y dependen únicamente de sus parámetros de entrada para calcular el resultado, haciéndolas predecibles y fáciles de razonar.\n",
    "\n",
    "Algunos conceptos clave en la programación funcional incluyen:\n",
    "\n",
    "1. **Datos Inmutables**: En la programación funcional, los datos son típicamente inmutables, lo que significa que una vez que se crean, no pueden ser modificados. En cambio, nuevos datos son creados aplicando transformaciones a los datos existentes.\n",
    "\n",
    "2. **Funciones de Orden Superior**: Los lenguajes de programación funcional soportan funciones de orden superior, que son funciones que pueden tomar otras funciones como argumentos o devolver funciones como resultados. Esto permite un código más abstracto y reutilizable.\n",
    "\n",
    "3. **Recursión**: La recursión es a menudo utilizada en la programación funcional para resolver problemas dividiéndolos en sub-problemas más pequeños y similares. La recursión reemplaza los bucles en la programación imperativa.\n",
    "\n",
    "4. **Funciones de Primera Clase**: En los lenguajes de programación funcional, las funciones son ciudadanos de primera clase, lo que significa que pueden ser asignadas a variables, pasadas como argumentos y devueltas como valores.\n",
    "\n",
    "5. **Map, Filter y Reduce**: Los lenguajes de programación funcional comúnmente usan funciones como `map`, `filter` y `reduce` para procesar colecciones de datos de manera funcional. Estas funciones abstraen los detalles de la iteración y el estado mutable.\n",
    "\n",
    "Lenguajes de programación funcional, como Haskell, Lisp y Erlang, están diseñados con principios funcionales en mente. Sin embargo, muchos lenguajes de programación mainstream, incluidos Python, JavaScript y Ruby, también soportan la programación funcional en diversos grados. Los desarrolladores pueden aplicar conceptos y técnicas de programación funcional en estos lenguajes para escribir código más conciso, predecible y mantenible.\n",
    "\n",
    "En este cuaderno, exploraremos conceptos de programación funcional y cómo pueden ser aplicados en la práctica usando Python, un lenguaje que combina paradigmas de programación funcional e imperativa.\n"
   ]
  },
  {
   "cell_type": "markdown",
   "id": "incorrect-serum",
   "metadata": {
    "toc": true
   },
   "source": [
    "<h1>Table of Contents<span class=\"tocSkip\"></span></h1>\n",
    "<div class=\"toc\"><ul class=\"toc-item\"><li><span><a href=\"#Your-contributions-🚀\" data-toc-modified-id=\"Your-contributions-🚀-1\"><span class=\"toc-item-num\">1&nbsp;&nbsp;</span>Your contributions 🚀</a></span></li><li><span><a href=\"#What-is-functional-programming?:-paradigms\" data-toc-modified-id=\"What-is-functional-programming?:-paradigms-2\"><span class=\"toc-item-num\">2&nbsp;&nbsp;</span>What is functional programming?: paradigms</a></span></li><li><span><a href=\"#Built-in-functions\" data-toc-modified-id=\"Built-in-functions-3\"><span class=\"toc-item-num\">3&nbsp;&nbsp;</span>Built-in functions</a></span></li><li><span><a href=\"#USER---DEFINED-FUNCTIONS\" data-toc-modified-id=\"USER---DEFINED-FUNCTIONS-4\"><span class=\"toc-item-num\">4&nbsp;&nbsp;</span>USER - DEFINED FUNCTIONS</a></span><ul class=\"toc-item\"><li><span><a href=\"#def\" data-toc-modified-id=\"def-4.1\"><span class=\"toc-item-num\">4.1&nbsp;&nbsp;</span>def</a></span></li><li><span><a href=\"#name\" data-toc-modified-id=\"name-4.2\"><span class=\"toc-item-num\">4.2&nbsp;&nbsp;</span>name</a></span></li><li><span><a href=\"#parameters\" data-toc-modified-id=\"parameters-4.3\"><span class=\"toc-item-num\">4.3&nbsp;&nbsp;</span>parameters</a></span></li><li><span><a href=\"#arguments\" data-toc-modified-id=\"arguments-4.4\"><span class=\"toc-item-num\">4.4&nbsp;&nbsp;</span>arguments</a></span><ul class=\"toc-item\"><li><span><a href=\"#default-parameters\" data-toc-modified-id=\"default-parameters-4.4.1\"><span class=\"toc-item-num\">4.4.1&nbsp;&nbsp;</span>default parameters</a></span></li><li><span><a href=\"#positional-arguments-&amp;-keyword-arguments\" data-toc-modified-id=\"positional-arguments-&amp;-keyword-arguments-4.4.2\"><span class=\"toc-item-num\">4.4.2&nbsp;&nbsp;</span>positional arguments &amp; keyword arguments</a></span></li><li><span><a href=\"#*args\" data-toc-modified-id=\"*args-4.4.3\"><span class=\"toc-item-num\">4.4.3&nbsp;&nbsp;</span><code>*args</code></a></span></li><li><span><a href=\"#**kwargs\" data-toc-modified-id=\"**kwargs-4.4.4\"><span class=\"toc-item-num\">4.4.4&nbsp;&nbsp;</span>**kwargs</a></span></li><li><span><a href=\"#order\" data-toc-modified-id=\"order-4.4.5\"><span class=\"toc-item-num\">4.4.5&nbsp;&nbsp;</span>order</a></span></li></ul></li><li><span><a href=\"#return\" data-toc-modified-id=\"return-4.5\"><span class=\"toc-item-num\">4.5&nbsp;&nbsp;</span>return</a></span></li><li><span><a href=\"#Docstrings:-documentation-strings\" data-toc-modified-id=\"Docstrings:-documentation-strings-4.6\"><span class=\"toc-item-num\">4.6&nbsp;&nbsp;</span>Docstrings: documentation strings</a></span></li><li><span><a href=\"#source-code\" data-toc-modified-id=\"source-code-4.7\"><span class=\"toc-item-num\">4.7&nbsp;&nbsp;</span>source code</a></span></li></ul></li><li><span><a href=\"#Scope-of-functions\" data-toc-modified-id=\"Scope-of-functions-5\"><span class=\"toc-item-num\">5&nbsp;&nbsp;</span>Scope of functions</a></span></li><li><span><a href=\"#Lambda\" data-toc-modified-id=\"Lambda-6\"><span class=\"toc-item-num\">6&nbsp;&nbsp;</span>Lambda</a></span><ul class=\"toc-item\"><li><span><a href=\"#Syntax-of-a-lambda\" data-toc-modified-id=\"Syntax-of-a-lambda-6.1\"><span class=\"toc-item-num\">6.1&nbsp;&nbsp;</span>Syntax of a lambda</a></span></li><li><span><a href=\"#lambda-examples\" data-toc-modified-id=\"lambda-examples-6.2\"><span class=\"toc-item-num\">6.2&nbsp;&nbsp;</span>lambda examples</a></span></li><li><span><a href=\"#lambda--as-the-option-of-some-other-built-in-functions\" data-toc-modified-id=\"lambda--as-the-option-of-some-other-built-in-functions-6.3\"><span class=\"toc-item-num\">6.3&nbsp;&nbsp;</span><code>lambda</code>  as the option of some other built-in functions</a></span></li></ul></li><li><span><a href=\"#Functions:-functions-as-return-of-another-function\" data-toc-modified-id=\"Functions:-functions-as-return-of-another-function-7\"><span class=\"toc-item-num\">7&nbsp;&nbsp;</span>Functions: functions as return of another function</a></span></li><li><span><a href=\"#Recursion\" data-toc-modified-id=\"Recursion-8\"><span class=\"toc-item-num\">8&nbsp;&nbsp;</span>Recursion</a></span></li><li><span><a href=\"#Summary\" data-toc-modified-id=\"Summary-9\"><span class=\"toc-item-num\">9&nbsp;&nbsp;</span>Summary</a></span></li></ul></div>"
   ]
  },
  {
   "cell_type": "markdown",
   "id": "199cb1a8",
   "metadata": {
    "lang": "en"
   },
   "source": [
    "## Tus contribuciones 🚀\n",
    "¿Qué piensas sobre las funciones en la programación funcional? ¿Tienes experiencias, ejemplos o preguntas relacionadas con sus propiedades y utilidad? Siéntete libre de contribuir con tus ideas y participar en discusiones con otros aprendices mientras profundizamos más en el mundo de la programación funcional. Tus contribuciones son valiosas y pueden mejorar nuestro entendimiento colectivo de este paradigma de programación.\n",
    "\n",
    "#### Una función es/hace: ...\n",
    "\n",
    "![](https://media.makeameme.org/created/no-pressure-5b8539.jpg)\n",
    "\n",
    "**Utilidad de las Funciones:** Las funciones son increíblemente útiles en varios escenarios de programación, y ofrecen varias ventajas:\n",
    "\n",
    "- **Modularidad**: Las funciones encapsulan comportamientos o lógicas específicas, lo que facilita organizar y mantener el código. El código modular es más reutilizable y fácil de probar.\n",
    "\n",
    "- **Abstracción**: Las funciones permiten abstraer operaciones complejas detrás de una interfaz simple. Esta abstracción simplifica el consumo del código y promueve una clara separación de preocupaciones.\n",
    "\n",
    "- **Reusabilidad**: Las funciones bien diseñadas pueden reutilizarse en diferentes partes de tu base de código o incluso en diferentes proyectos. Esta reutilización reduce el código duplicado y promueve la consistencia.\n",
    "\n",
    "- **Pruebas**: Las funciones facilitan la escritura de pruebas unitarias. Con funciones puras, puedes predecir la salida para una entrada dada, simplificando el proceso de prueba.\n",
    "\n",
    "- **Legibilidad**: Las funciones con nombres claros y responsabilidades bien definidas mejoran la legibilidad del código y facilitan que otros desarrolladores (y tu yo futuro) entiendan el código.\n",
    "\n",
    "![](https://www.thetechedvocate.org/wp-content/uploads/2023/05/1_709ugF12LLkYxvb839YNlg.png)\n",
    "\n",
    "\n",
    "## ¿Qué es la programación funcional?: paradigmas\n",
    "\n",
    "En el mundo de la programación, un paradigma es un enfoque o estilo fundamental para estructurar el código y resolver problemas. Diferentes lenguajes de programación a menudo se asocian con paradigmas específicos que guían cómo los desarrolladores escriben y organizan su código. **Python**, como un lenguaje versátil y flexible, a menudo se refiere como un **lenguaje de programación multiparadigma**. Pero, ¿qué significa exactamente esto?\n",
    "\n",
    "Cuando decimos que Python es un lenguaje de programación multiparadigma, queremos decir que acoge y soporta múltiples estilos de programación o paradigmas. Estos paradigmas son como diferentes lentes a través de los cuales los desarrolladores pueden ver y abordar problemas. Python es conocido por su filosofía, que enfatiza la legibilidad del código y la simplicidad, y acomoda varios paradigmas para ofrecer a los desarrolladores la libertad de elegir el enfoque más adecuado para una tarea dada.\n",
    "\n",
    "\n",
    "**Los Tres Paradigmas Predominantes:** Python soporta principalmente tres paradigmas predominantes, cada uno ofreciendo una forma distinta de organizar y estructurar el código:\n",
    "\n",
    "1. **Programación Imperativa**: La programación imperativa es un paradigma tradicional y comúnmente utilizado. Se centra en describir la secuencia de pasos o instrucciones para alcanzar un objetivo específico. En la programación imperativa, escribes código que declara explícitamente cómo realizar acciones, manipular datos y controlar el flujo del programa. Python permite a los desarrolladores escribir código imperativo cuando es necesario."
   ]
  },
  {
   "cell_type": "code",
   "execution_count": null,
   "id": "f67456a2",
   "metadata": {},
   "outputs": [],
   "source": [
    "# Ejemplo de Programación Imperativa\n",
    "\n",
    "# Supongamos que queremos calcular la suma de los primeros 5 enteros positivos (1 + 2 + 3 + 4 + 5) usando programación imperativa.\n",
    "\n",
    "# Inicializar una variable para almacenar la suma\n",
    "sum_of_numbers = 0\n",
    "\n",
    "# Usar un bucle para iterar a través de los números\n",
    "for i in range(1, 6):\n",
    "    # Añadir el número actual a la suma\n",
    "    sum_of_numbers += i\n",
    "\n",
    "# Imprimir el resultado\n",
    "print(\"La suma de los primeros 5 enteros positivos es:\", sum_of_numbers)"
   ]
  },
  {
   "cell_type": "markdown",
   "id": "77fcc965",
   "metadata": {},
   "source": [
    "En este ejemplo:\n",
    "\n",
    "- Comenzamos inicializando una variable `sum_of_numbers` para almacenar la suma.\n",
    "\n",
    "- Utilizamos un bucle for para iterar a través de los números del 1 al 5. Dentro del bucle:\n",
    "  - Añadimos el número actual `i` a `sum_of_numbers` usando el operador `+=`. Esta es la parte imperativa donde especificamos explícitamente los pasos para actualizar la suma.\n",
    "\n",
    "- Finalmente, imprimimos el resultado.\n",
    "\n",
    "2. **Programación Orientada a Objetos (POO)**: Python sobresale en la programación orientada a objetos. En este paradigma, el código se organiza alrededor de objetos, que son instancias de clases. Los objetos encapsulan datos y comportamientos, facilitando la modelación de entidades del mundo real y sus interacciones. Python proporciona un soporte robusto para crear y trabajar con clases y objetos.\n",
    "\n",
    "```python\n",
    "# Definir una clase llamada \"Persona\"\n",
    "class Persona:\n",
    "    # Método constructor para inicializar las propiedades del objeto\n",
    "    def __init__(self, nombre, edad):\n",
    "        self.nombre = nombre\n",
    "        self.edad = edad\n",
    "```\n",
    "- Comenzamos definiendo una clase llamada \"Persona\". Piensa en una clase como un plano para crear objetos. En este caso, estamos creando un plano para representar personas.\n",
    "\n",
    "- Dentro de la clase, tenemos un método especial llamado `__init__`. Este método es un constructor, lo que significa que se llama automáticamente cuando se crea un nuevo objeto de la clase.\n",
    "\n",
    "- El método `__init__` toma tres parámetros: `self` (una referencia al objeto que se está creando), `nombre`, y `edad`. Inicializa dos propiedades del objeto: `nombre` y `edad`.\n",
    "\n",
    "```python\n",
    "    # Método para mostrar información sobre la persona\n",
    "    def mostrar_info(self):\n",
    "        print(f\"Nombre: {self.nombre}, Edad: {self.edad}\")\n",
    "```\n",
    "\n",
    "- A continuación, definimos un método llamado `mostrar_info` dentro de la clase. Este método se utiliza para mostrar información sobre la persona.\n",
    "\n",
    "- El parámetro `self` es una referencia al propio objeto. Nos permite acceder a las propiedades del objeto (en este caso, `nombre` y `edad`) dentro del método.\n",
    "\n",
    "- Dentro del método `mostrar_info`, usamos la función `print` para mostrar el nombre y la edad de la persona.\n",
    "\n",
    "```python\n",
    "# Crear dos instancias (objetos) de la clase Persona\n",
    "persona1 = Persona(\"Alice\", 30)\n",
    "persona2 = Persona(\"Bob\", 25)\n",
    "```\n",
    "\n",
    "- Ahora, creamos dos instancias (o objetos) de la clase `Persona`: `persona1` y `persona2`. Estos objetos representan a personas individuales.\n",
    "\n",
    "- Proporcionamos valores para las propiedades `nombre` y `edad` al crear cada objeto. Por ejemplo, `persona1` representa a una persona llamada \"Alice\" que tiene 30 años.\n",
    "\n",
    "```python\n",
    "# Llamar al método mostrar_info() para cada persona\n",
    "persona1.mostrar_info()\n",
    "persona2.mostrar_info()\n",
    "```\n",
    "\n",
    "- Finalmente, llamamos al método  `display_info`  para cada objeto persona. Este método muestra su nombre y edad."
   ]
  },
  {
   "cell_type": "code",
   "execution_count": null,
   "id": "1a042fd3",
   "metadata": {},
   "outputs": [],
   "source": [
    "# Definir una clase llamada \"Persona\"\n",
    "class Persona:\n",
    "    # Método constructor para inicializar las propiedades del objeto\n",
    "    def __init__(self, nombre, edad):\n",
    "        self.nombre = nombre\n",
    "        self.edad = edad\n",
    "\n",
    "    # Método para mostrar información sobre la persona\n",
    "    def mostrar_info(self):\n",
    "        print(f\"Nombre: {self.nombre}, Edad: {self.edad}\")\n",
    "\n",
    "# Crear dos instancias (objetos) de la clase Persona\n",
    "persona1 = Persona(\"Alice\", 30)\n",
    "persona2 = Persona(\"Bob\", 25)\n",
    "\n",
    "# Llamar al método mostrar_info() para cada persona\n",
    "persona1.mostrar_info()\n",
    "persona2.mostrar_info()"
   ]
  },
  {
   "cell_type": "markdown",
   "id": "2a679fd0",
   "metadata": {},
   "source": [
    "3. **Programación Funcional (PF)**: La programación funcional es un paradigma que trata el cálculo como la evaluación de funciones matemáticas y evita cambiar el estado y los datos mutables. Fomenta la inmutabilidad, funciones puras y el uso de funciones de orden superior. Aunque Python no es un lenguaje puramente funcional como Haskell, ofrece características de programación funcional y puede ser utilizado en un estilo funcional para escribir código limpio y conciso."
   ]
  },
  {
   "cell_type": "code",
   "execution_count": null,
   "id": "8a9c96f4",
   "metadata": {},
   "outputs": [],
   "source": [
    "# Define una función\n",
    "def greet(name):\n",
    "    return f\"Hello, {name}!\""
   ]
  },
  {
   "cell_type": "code",
   "execution_count": null,
   "id": "ba3d56c6",
   "metadata": {},
   "outputs": [],
   "source": [
    "greet(\"Santi\")"
   ]
  },
  {
   "cell_type": "code",
   "execution_count": null,
   "id": "c62ffe83",
   "metadata": {},
   "outputs": [],
   "source": [
    "greet(\"Clara\")"
   ]
  },
  {
   "cell_type": "code",
   "execution_count": null,
   "id": "f7cd903a",
   "metadata": {},
   "outputs": [],
   "source": [
    "greet(\"Laura\")"
   ]
  },
  {
   "cell_type": "markdown",
   "id": "80919246",
   "metadata": {
    "lang": "en"
   },
   "source": [
    "## Funciones integradas\n",
    "\n",
    "Python proporciona un conjunto de funciones y tipos integrados que están disponibles para su uso. Estas funciones abarcan una amplia gama de tareas y operaciones comunes. Puedes encontrar una lista completa de estas funciones en la [documentación de Python](https://docs.python.org/3/library/functions.html), organizada en orden alfabético.\n",
    "\n",
    "**Ejemplo: Usando la función `print()`**\n",
    "\n",
    "Una de las funciones integradas más fundamentales en Python es `print()`. Te permite mostrar salida en la consola. Así es como se usa:"
   ]
  },
  {
   "cell_type": "code",
   "execution_count": null,
   "id": "b8e2371a",
   "metadata": {},
   "outputs": [],
   "source": [
    "print(\"Hello!\")"
   ]
  },
  {
   "cell_type": "markdown",
   "id": "d36c02f5",
   "metadata": {
    "lang": "en"
   },
   "source": [
    "Understand that these built-in functions are an integral part of Python and are implemented in C, which means their source code isn't directly accessible or inspectable from Python itself.\n",
    "\n",
    "While we can't view the code for built-in functions like `print()` using Python's `inspect module`, we can still use them effectively to perform a wide range of tasks in our Python programs. the Print function looks like this 👇🏻"
   ]
  },
  {
   "cell_type": "markdown",
   "id": "through-silicon",
   "metadata": {},
   "source": [
    "```C\n",
    "static PyObject *\n",
    "builtin_print(PyObject *self, PyObject *args, PyObject *kwds)\n",
    "{\n",
    "    static char *kwlist[] = {\"sep\", \"end\", \"file\", 0};\n",
    "    static PyObject *dummy_args = NULL;\n",
    "    static PyObject *unicode_newline = NULL, *unicode_space = NULL;\n",
    "    static PyObject *str_newline = NULL, *str_space = NULL;\n",
    "    PyObject *newline, *space;\n",
    "    PyObject *sep = NULL, *end = NULL, *file = NULL;\n",
    "    int i, err, use_unicode = 0;\n",
    "\n",
    "    if (dummy_args == NULL) {\n",
    "        if (!(dummy_args = PyTuple_New(0)))\n",
    "            return NULL;\n",
    "    }\n",
    "    if (str_newline == NULL) {\n",
    "        str_newline = PyString_FromString(\"\\n\");\n",
    "        if (str_newline == NULL)\n",
    "            return NULL;\n",
    "        str_space = PyString_FromString(\" \");\n",
    "        if (str_space == NULL) {\n",
    "            Py_CLEAR(str_newline);\n",
    "            return NULL;\n",
    "        }\n",
    "#ifdef Py_USING_UNICODE\n",
    "        unicode_newline = PyUnicode_FromString(\"\\n\");\n",
    "        if (unicode_newline == NULL) {\n",
    "            Py_CLEAR(str_newline);\n",
    "            Py_CLEAR(str_space);\n",
    "            return NULL;\n",
    "        }\n",
    "        unicode_space = PyUnicode_FromString(\" \");\n",
    "        if (unicode_space == NULL) {\n",
    "            Py_CLEAR(str_newline);\n",
    "            Py_CLEAR(str_space);\n",
    "            Py_CLEAR(unicode_space);\n",
    "            return NULL;\n",
    "        }\n",
    "#endif\n",
    "    }\n",
    "    if (!PyArg_ParseTupleAndKeywords(dummy_args, kwds, \"|OOO:print\",\n",
    "                                     kwlist, &sep, &end, &file))\n",
    "        return NULL;\n",
    "    if (file == NULL || file == Py_None) {\n",
    "        file = PySys_GetObject(\"stdout\");\n",
    "        /* sys.stdout may be None when FILE* stdout isn't connected */\n",
    "        if (file == Py_None)\n",
    "            Py_RETURN_NONE;\n",
    "    }\n",
    "    if (sep == Py_None) {\n",
    "        sep = NULL;\n",
    "    }\n",
    "    else if (sep) {\n",
    "        if (PyUnicode_Check(sep)) {\n",
    "            use_unicode = 1;\n",
    "        }\n",
    "        else if (!PyString_Check(sep)) {\n",
    "            PyErr_Format(PyExc_TypeError,\n",
    "                         \"sep must be None, str or unicode, not %.200s\",\n",
    "                         sep->ob_type->tp_name);\n",
    "            return NULL;\n",
    "        }\n",
    "    }\n",
    "    if (end == Py_None)\n",
    "        end = NULL;\n",
    "    else if (end) {\n",
    "        if (PyUnicode_Check(end)) {\n",
    "            use_unicode = 1;\n",
    "        }\n",
    "        else if (!PyString_Check(end)) {\n",
    "            PyErr_Format(PyExc_TypeError,\n",
    "                         \"end must be None, str or unicode, not %.200s\",\n",
    "                         end->ob_type->tp_name);\n",
    "            return NULL;\n",
    "        }\n",
    "    }\n",
    "\n",
    "    if (!use_unicode) {\n",
    "        for (i = 0; i < PyTuple_Size(args); i++) {\n",
    "            if (PyUnicode_Check(PyTuple_GET_ITEM(args, i))) {\n",
    "                use_unicode = 1;\n",
    "                break;\n",
    "            }\n",
    "        }\n",
    "    }\n",
    "    if (use_unicode) {\n",
    "        newline = unicode_newline;\n",
    "        space = unicode_space;\n",
    "    }\n",
    "    else {\n",
    "        newline = str_newline;\n",
    "        space = str_space;\n",
    "    }\n",
    "\n",
    "    for (i = 0; i < PyTuple_Size(args); i++) {\n",
    "        if (i > 0) {\n",
    "            if (sep == NULL)\n",
    "                err = PyFile_WriteObject(space, file,\n",
    "                                         Py_PRINT_RAW);\n",
    "            else\n",
    "                err = PyFile_WriteObject(sep, file,\n",
    "                                         Py_PRINT_RAW);\n",
    "            if (err)\n",
    "                return NULL;\n",
    "        }\n",
    "        err = PyFile_WriteObject(PyTuple_GetItem(args, i), file,\n",
    "                                 Py_PRINT_RAW);\n",
    "        if (err)\n",
    "            return NULL;\n",
    "    }\n",
    "\n",
    "    if (end == NULL)\n",
    "        err = PyFile_WriteObject(newline, file, Py_PRINT_RAW);\n",
    "    else\n",
    "        err = PyFile_WriteObject(end, file, Py_PRINT_RAW);\n",
    "    if (err)\n",
    "        return NULL;\n",
    "\n",
    "    Py_RETURN_NONE;\n",
    "}\n",
    "```"
   ]
  },
  {
   "cell_type": "code",
   "execution_count": null,
   "id": "f7695035",
   "metadata": {
    "scrolled": true
   },
   "outputs": [],
   "source": [
    "# todo el codígo anterior para decir hola ...\n",
    "print(\"hi!\")"
   ]
  },
  {
   "cell_type": "markdown",
   "id": "6b586df5",
   "metadata": {},
   "source": [
    "## Ejercicio: Exploración de Paradigmas\n",
    "\n",
    "**Contexto:**\n",
    "Python es un lenguaje de programación versátil que admite múltiples paradigmas de programación: imperativo, orientado a objetos y funcional. Cada paradigma ofrece un enfoque diferente para resolver problemas. En este ejercicio, explorarás estos paradigmas trabajando en una tarea común: procesar una lista de números.\n",
    "\n",
    "**Tarea:**\n",
    "Se te ha dado una lista de números: `[1, 2, 3, 4, 5]`.\n",
    "\n",
    "1. **Paradigma Imperativo (Programación Procedural):**\n",
    "   Escribe un script de Python utilizando programación imperativa para calcular la suma de todos los números en la lista e imprimir el resultado.\n",
    "\n",
    "2. **Paradigma Orientado a Objetos:**\n",
    "   Crea una clase de Python llamada `ProcesadorDeNumeros`. Esta clase debe tener un método llamado `calcular_suma` que calcule la suma de los números en la lista y devuelva el resultado. Instancia la clase, llama al método e imprime el resultado.\n",
    "\n",
    "3. **Paradigma Funcional:**\n",
    "   Escribe una función de Python llamada `calcular_suma_funcional` utilizando un enfoque de programación funcional. Esta función debe tomar la lista de números como argumento y devolver la suma. Utiliza la función `reduce` del módulo `functools` para lograr esto. Llama a la función e imprime el resultado.\n",
    "\n",
    "**Consejos:**\n",
    "- Para el paradigma funcional, necesitarás importar el módulo `functools` y utilizar la función `reduce`.\n",
    "- Puedes crear una variable de instancia en el paradigma orientado a objetos para almacenar la lista de números.\n",
    "\n",
    "**Resultado Esperado:**\n",
    "Deberías tener tres implementaciones separadas, cada una imprimiendo el mismo resultado: la suma de los números en la lista `[1, 2, 3, 4, 5]`."
   ]
  },
  {
   "cell_type": "code",
   "execution_count": null,
   "id": "6651b251",
   "metadata": {},
   "outputs": [],
   "source": [
    "# Imperative Paradigm (Procedural Programming)\n",
    "# -------------------------------------------\n",
    "numbers = [1, 2, 3, 4, 5]\n",
    "sum_result = 0\n",
    "\n",
    "# [Some operation]\n",
    "\n",
    "print(\"Imperative Paradigm Result:\", sum_result)"
   ]
  },
  {
   "cell_type": "code",
   "execution_count": null,
   "id": "f03cdc23",
   "metadata": {},
   "outputs": [],
   "source": [
    "# Object-Oriented Paradigm\n",
    "# -------------------------------------------\n",
    "\n",
    "# Hint on operation: sum(self.numbers)\n",
    "\n",
    "# Instantiate the class and call the method\n",
    "number_processor = NumberProcessor([1, 2, 3, 4, 5])\n",
    "result_object_oriented = number_processor.calculate_sum()\n",
    "print(\"Object-Oriented Paradigm Result:\", result_object_oriented)"
   ]
  },
  {
   "cell_type": "code",
   "execution_count": null,
   "id": "64f58724",
   "metadata": {},
   "outputs": [],
   "source": [
    "# Functional Paradigm\n",
    "# -------------------------------------------\n",
    "from functools import reduce\n",
    "\n",
    "# Hint on reduce statement: reduce(lambda x, y: x + y, numbers)\n",
    "\n",
    "# Call the function\n",
    "numbers = [1, 2, 3, 4, 5]\n",
    "result_functional = calculate_sum_functional(numbers)\n",
    "print(\"Functional Paradigm Result:\", result_functional)"
   ]
  },
  {
   "cell_type": "markdown",
   "id": "9197a86b",
   "metadata": {},
   "source": [
    "## FUNCIONES DEFINIDAS POR EL USUARIO\n",
    "\n",
    "En Python, puedes crear tus propias funciones para encapsular un conjunto específico de instrucciones y reutilizarlas a lo largo de tu código. Estas funciones se llaman funciones definidas por el usuario. Desglosemos los componentes clave de las funciones definidas por el usuario:\n",
    "\n",
    "- **`def`**: La palabra clave `def` se utiliza para definir una nueva función. Le sigue el nombre de la función, paréntesis y dos puntos. Por ejemplo, `def mi_funcion():` define una función llamada `mi_funcion`.\n",
    "\n",
    "- **`nombre`**: El nombre de la función es elegido por el programador y debe ser descriptivo del propósito de la función. Sigue a la palabra clave `def`, y en el ejemplo anterior, el nombre es `mi_funcion`.\n",
    "\n",
    "- **`params`**: Dentro de los paréntesis, puedes especificar parámetros (también conocidos como argumentos) que la función aceptará. Los parámetros son variables que actúan como marcadores de posición para los valores que pasas a la función cuando la llamas. Por ejemplo, `def saludar(nombre):` define una función que acepta un parámetro, `nombre`.\n",
    "\n",
    "- **`args`**: Los argumentos son los valores reales que proporcionas al llamar a una función. Por ejemplo, cuando llamas a `saludar(\"Alice\")`, `\"Alice\"` es el argumento pasado al parámetro `nombre`.\n",
    "\n",
    "- **`return`**: La instrucción `return` se utiliza para especificar qué debería devolver o producir la función. Las funciones pueden realizar cálculos o procesos y luego devolver un resultado. Por ejemplo, `def sumar(x, y): return x + y` define una función que suma dos números y devuelve el resultado.\n",
    "\n",
    "- **`docstrings`**: Los docstrings (cadenas de documentación) se utilizan para proporcionar una descripción de lo que hace la función. Están encerrados en comillas triples (ya sean simples o dobles) y se colocan inmediatamente después de la definición de la función. Los docstrings ayudan a otros programadores (y a ti mismo) a entender el propósito y uso de la función. Por ejemplo:\n",
    "\n",
    "  ```python\n",
    "  # Definir el tipo de entrada y salida es parte de los estándares de código limpio (sin embargo, no muchas personas lo utilizan)\n",
    "  def saludar(nombre: str) -> str:\n",
    "      \"\"\"\n",
    "      Esta función saluda a la persona pasada como parámetro.\n",
    "      \"\"\"\n",
    "      return f\"Hola, {nombre}!\"\n",
    "  ```\n",
    "- **`source code`**: El código fuente de la función contiene las instrucciones reales que la función realiza. Está indentado debajo de la definición de la función y se ejecuta cuando se llama a la función."
   ]
  },
  {
   "cell_type": "markdown",
   "id": "85d6428d",
   "metadata": {
    "lang": "en"
   },
   "source": [
    "**Sintaxis para DEFINIR una función**\n",
    "\n",
    "Para definir una función en Python, utiliza la siguiente sintaxis:\n",
    "\n",
    "```python\n",
    "def nombre_funcion(parametros_entrada):\n",
    "    # El colon y la indentación indican que estamos definiendo una función.\n",
    "    # Dentro de la función, se realiza alguna acción o se lleva a cabo una serie de operaciones.\n",
    "    realizar_una_accion\n",
    "    return() # La instrucción return especifica el valor que se devolverá de la función.\n",
    "\n",
    "```\n",
    "\n",
    "En esta sintaxis:\n",
    "\n",
    "- `def` es la palabra clave utilizada para definir una función.\n",
    "- `nombre_funcion` es el nombre que le das a tu función. Debe seguir las convenciones de nombrado de Python y ser descriptivo del propósito de la función.\n",
    "- `parametros_entrada` son los parámetros (entradas) que la función espera. Están encerrados en paréntesis y separados por comas si hay múltiples parámetros.\n",
    "- El colon `:` y la indentación (espacio en blanco) se utilizan para definir el bloque de código de la función. Todo lo indentado bajo la definición de la función es parte del cuerpo de la función.\n",
    "- Dentro de la función, escribes el código para realizar acciones o cálculos específicos.\n",
    "- La instrucción `return` especifica qué valor debe producir la función como salida. Termina la ejecución de la función y envía el resultado de vuelta al llamador.\n",
    "\n",
    "**Sintaxis para LLAMAR a una función**\n",
    "\n",
    "Para llamar (invocar) una función en Python, utilizas la siguiente sintaxis:\n",
    "\n",
    "`nombre_de_la_funcion(argumento1, argumento2, ...)`\n",
    "\n",
    "- `nombre_de_la_funcion` es el nombre de la función que quieres llamar.\n",
    "- `argumento1, argumento2, ...` son los valores o expresiones que quieres pasar como argumentos a la función. Estos son los inputs con los que trabajará la función.\n",
    "\n",
    "Si quieres guardar el resultado devuelto por la función, puedes asignarlo a una variable de esta manera:\n",
    "\n",
    "`resultado = nombre_de_la_funcion(argumento1, argumento2, ...)`\n",
    "\n",
    "En este caso, `resultado` contendrá el valor devuelto por la función, y puedes usarlo en tu código según sea necesario.\n"
   ]
  },
  {
   "cell_type": "markdown",
   "id": "d14ec799",
   "metadata": {},
   "source": [
    "### def\n",
    "\n",
    "La declaración `def` sirve como el punto de partida para crear tus funciones personalizadas. Especifica el nombre de la función, los parámetros de entrada que espera y el bloque de código que constituye el cuerpo de la función. Las funciones definidas con `def` pueden ser llamadas múltiples veces a lo largo de tu programa, haciendo tu código más modular, legible y eficiente."
   ]
  },
  {
   "cell_type": "code",
   "execution_count": null,
   "id": "758fc928",
   "metadata": {},
   "outputs": [],
   "source": [
    "# Simple function\n",
    "def addition (a, b):\n",
    "    result = a * b\n",
    "    #print(f\"Hello! The result is {result}\")\n",
    "    return result\n",
    "\n",
    "# Calling the function\n",
    "addition(10, 2)"
   ]
  },
  {
   "cell_type": "code",
   "execution_count": null,
   "id": "3ecf0294",
   "metadata": {},
   "outputs": [],
   "source": [
    "# Así es como me gusta una función, limpia y legible\n",
    "\n",
    "def suma(a: int, b: int) -> int:\n",
    "    \"\"\"\n",
    "    Esta función realiza la suma de dos números.\n",
    "\n",
    "    Argumentos:\n",
    "        a (int): El primer número.\n",
    "        b (int): El segundo número.\n",
    "\n",
    "    Devuelve:\n",
    "        int: El resultado de la suma.\n",
    "    \"\"\"\n",
    "    resultado = a + b\n",
    "    return resultado\n",
    "\n",
    "# Llamando a la función\n",
    "resultado = suma(10, 2)\n",
    "print(f\"El resultado es {resultado}\")"
   ]
  },
  {
   "cell_type": "markdown",
   "id": "5808796f",
   "metadata": {},
   "source": [
    "**En esta versión revisada:**\n",
    "\n",
    "- Hemos añadido docstrings claros e informativos que describen qué hace la función, qué argumentos acepta y qué devuelve.\n",
    "\n",
    "- Hemos utilizado anotaciones de tipo de datos (`a: int`, `b: int`, `-> int`) para indicar los tipos esperados para los parámetros de la función y los valores de retorno.\n",
    "\n",
    "- Hemos proporcionado un nombre de función significativo (`suma`) que representa con precisión su propósito.\n",
    "\n",
    "- Hemos eliminado el comentario de la instrucción `print` para mantener la función enfocada en su tarea principal de suma.\n",
    "\n",
    "![](https://i.kym-cdn.com/entries/icons/facebook/000/006/077/so_good.jpg)\n",
    "\n",
    "### nombre\n",
    "\n",
    "La declaración del nombre de una función en Python es un aspecto crucial de la legibilidad y comprensión del código. Elegir nombres descriptivos y significativos para tus funciones mejora la claridad de tu código, facilitando tanto para ti como para otros comprender su propósito y funcionalidad. **Ejemplo**:"
   ]
  },
  {
   "cell_type": "code",
   "execution_count": null,
   "id": "f654d98a",
   "metadata": {},
   "outputs": [],
   "source": [
    "def adder ():\n",
    "    return "
   ]
  },
  {
   "cell_type": "markdown",
   "id": "7f5f9741",
   "metadata": {},
   "source": [
    "Sumador de ¿qué? Quizás, si somos más claros..."
   ]
  },
  {
   "cell_type": "code",
   "execution_count": null,
   "id": "2376e1bb",
   "metadata": {},
   "outputs": [],
   "source": [
    "def number_adder ():\n",
    "    return "
   ]
  },
  {
   "cell_type": "markdown",
   "id": "67664511",
   "metadata": {},
   "source": [
    "Ahora, parece ser más claro, incluso podemos ser más descriptivos (¡ayuda a los demás!)"
   ]
  },
  {
   "cell_type": "code",
   "execution_count": null,
   "id": "20fcf39a",
   "metadata": {},
   "outputs": [],
   "source": [
    "def sumador_de_numeros():\n",
    "    \"\"\"\n",
    "    Esta función utiliza snake_case para su nombre, lo cual es una convención en Python.\n",
    "    El snake_case hace que los nombres de las funciones sean legibles y fáciles de entender al separar las palabras con guiones bajos.\n",
    "    \"\"\"\n",
    "    return"
   ]
  },
  {
   "cell_type": "markdown",
   "id": "8fcf282e",
   "metadata": {},
   "source": [
    "Por otro lado..."
   ]
  },
  {
   "cell_type": "code",
   "execution_count": null,
   "id": "f5fcd56a",
   "metadata": {},
   "outputs": [],
   "source": [
    "# No recomendado -> JavaScript\n",
    "def CamelCase(): # CamelCase\n",
    "    \"\"\"\n",
    "    En Python, no se recomienda usar CamelCase para los nombres de las funciones.\n",
    "    CamelCase se utiliza típicamente en lenguajes como JavaScript, mientras que Python\n",
    "    utiliza convencionalmente snake_case para los nombres de las funciones para mantener\n",
    "    la consistencia y legibilidad.\n",
    "    \"\"\"\n",
    "    return"
   ]
  },
  {
   "cell_type": "markdown",
   "id": "80ee81e1",
   "metadata": {},
   "source": [
    "### parámetros\n",
    "\n",
    "Los parámetros de las funciones en Python se utilizan para pasar valores o datos a una función cuando se llama. Estos parámetros actúan como marcadores de posición que reciben los valores de entrada, permitiendo que las funciones trabajen con datos específicos sin codificarlos directamente. Las funciones de Python pueden aceptar cero o más parámetros, y cada parámetro puede tener un valor predeterminado o ser especificado como obligatorio. Los parámetros hacen que las funciones sean versátiles y reutilizables, permitiéndoles realizar diferentes acciones basadas en la entrada proporcionada.\n",
    "\n",
    "En Python, los parámetros se definen dentro de los paréntesis () al declarar una función, y sus nombres sirven como variables dentro del bloque de código de la función. Exploremos cómo trabajar con parámetros de funciones en Python.\n",
    "`()`"
   ]
  },
  {
   "cell_type": "code",
   "execution_count": null,
   "id": "94c35a70",
   "metadata": {},
   "outputs": [],
   "source": [
    "def greetings ():\n",
    "    return \"Hello!\""
   ]
  },
  {
   "cell_type": "code",
   "execution_count": null,
   "id": "4ef85cdd",
   "metadata": {},
   "outputs": [],
   "source": [
    "greetings()"
   ]
  },
  {
   "cell_type": "markdown",
   "id": "93588783",
   "metadata": {},
   "source": [
    "Ahora definimos dos parametros, `(param_1, param_2)`."
   ]
  },
  {
   "cell_type": "code",
   "execution_count": null,
   "id": "0b1e2193",
   "metadata": {},
   "outputs": [],
   "source": [
    "def greetings (other_person, myself):\n",
    "    return f\"Hello {other_person}! My name is {myself}\""
   ]
  },
  {
   "cell_type": "code",
   "execution_count": null,
   "id": "33530bc7",
   "metadata": {},
   "outputs": [],
   "source": [
    "# ¡Así es como me gusta!\n",
    "def saludos(otra_persona: str, yo_mismo: str) -> str:\n",
    "    \"\"\"\n",
    "    Esta función saluda a otra persona y se presenta.\n",
    "\n",
    "    Argumentos:\n",
    "        otra_persona (str): El nombre de la otra persona.\n",
    "        yo_mismo (str): El nombre de la persona que se presenta.\n",
    "\n",
    "    Devuelve:\n",
    "        str: Un mensaje de saludo.\n",
    "\n",
    "    Ejemplo:\n",
    "        >>> saludos(\"Alice\", \"Bob\")\n",
    "        'Hola Alice! Mi nombre es Bob'\n",
    "    \"\"\"\n",
    "    return f\"Hola {otra_persona}! Mi nombre es {yo_mismo}\""
   ]
  },
  {
   "cell_type": "markdown",
   "id": "5308ad65",
   "metadata": {},
   "source": [
    "### argumentos\n",
    "\n",
    "En Python, los argumentos de las funciones son los valores o variables que pasamos a una función cuando la llamamos. Estos argumentos son esenciales para que la función realice su tarea. Python ofrece flexibilidad en cómo podemos trabajar con los argumentos de las funciones, permitiéndonos pasar valores de diversas maneras, incluidos argumentos posicionales, argumentos de palabra clave, valores predeterminados y más. Entender cómo trabajar con argumentos de funciones es crucial para crear funciones versátiles y reutilizables."
   ]
  },
  {
   "cell_type": "code",
   "execution_count": null,
   "id": "75b18d78",
   "metadata": {},
   "outputs": [],
   "source": [
    "def greetings (other_person, myself):\n",
    "    return f\"Hello {other_person}! My name is {myself}\""
   ]
  },
  {
   "cell_type": "code",
   "execution_count": null,
   "id": "7f6cf64d",
   "metadata": {},
   "outputs": [],
   "source": [
    "greetings(\"Santi\", \"Clara\")"
   ]
  },
  {
   "cell_type": "code",
   "execution_count": null,
   "id": "3864fecc",
   "metadata": {},
   "outputs": [],
   "source": [
    "greetings(\"Laura\", \"Albert\", \"Santi\")"
   ]
  },
  {
   "cell_type": "markdown",
   "id": "9791b430",
   "metadata": {},
   "source": [
    "Recapitulación:\n",
    "\n",
    "- **Parámetros**: Son marcadores de posición formales definidos en la declaración de la función. Sirven como nombres simbólicos para los valores que una función espera recibir y utilizar dentro de su cuerpo. Los parámetros son como variables esperando ser llenadas con datos reales.\n",
    "\n",
    "- **Argumentos**: Cuando llamamos a una función, proporcionamos datos reales o valores llamados argumentos. Estos argumentos se enumeran dentro de paréntesis después del nombre de la función durante la llamada a la función. Cuando se ejecuta la función, estos argumentos se asignan a los parámetros correspondientes dentro del cuerpo de la función.\n",
    "\n",
    "Para ilustrar, piensa en los parámetros como variables \"imaginarias\" en la definición de la función: tienen nombres pero no valores hasta que proporcionas los argumentos. Por otro lado, los argumentos son los datos tangibles y reales que suministras al invocar la función. Llenan los marcadores de posición definidos por los parámetros.\n",
    "\n",
    "Comprender la distinción entre parámetros y argumentos es fundamental al trabajar con funciones en la programación.\n",
    "\n",
    "#### parámetros por defecto\n",
    "\n",
    "En Python, las funciones pueden tener parámetros con valores por defecto. Estos parámetros por defecto proporcionan una manera de definir un valor que se utilizará si el argumento correspondiente no se proporciona al llamar a la función. Esta característica permite hacer que ciertos argumentos de la función sean opcionales, mejorando la flexibilidad y usabilidad de tus funciones. Los parámetros por defecto son particularmente útiles cuando quieres proporcionar valores predeterminados sensatos o comunes, al mismo tiempo que permites a los usuarios personalizarlos cuando sea necesario.\n",
    "\n",
    "`(param_1, param_default = valorpredeterminado)` \n",
    "\n",
    "1. Volvamos a este ejemplo: `saludos_por_defecto(yo_mismo, alguien_mas, idioma=\"en\")`"
   ]
  },
  {
   "cell_type": "code",
   "execution_count": null,
   "id": "6ebd39c0",
   "metadata": {},
   "outputs": [],
   "source": [
    "def greetings_default(myself, someone_else, language=\"en\"):\n",
    "    if language == \"en\":\n",
    "        return f\"Hello {someone_else}! I'm {myself}\"\n",
    "    else:\n",
    "        return f\"Hola! {someone_else}, soy {myself}\""
   ]
  },
  {
   "cell_type": "code",
   "execution_count": 1,
   "id": "703f8028",
   "metadata": {},
   "outputs": [],
   "source": [
    "def saludos_predeterminado(yo_mismo: str, alguien_mas: str, idioma: str = \"en\") -> str:\n",
    "    \"\"\"\n",
    "    Saluda a alguien en inglés o español.\n",
    "\n",
    "    Argumentos:\n",
    "        yo_mismo (str): El nombre de la persona que saluda.\n",
    "        alguien_mas (str): El nombre de la persona a la que se saluda.\n",
    "        idioma (str, opcional): El idioma del saludo (\"en\" para inglés, \"es\" para español).\n",
    "            Por defecto es \"en\".\n",
    "\n",
    "    Devuelve:\n",
    "        str: Un mensaje de saludo.\n",
    "\n",
    "    Ejemplo:\n",
    "        >>> saludos_predeterminado(\"Alice\", \"Bob\")\n",
    "        'Hello Bob! I'm Alice'\n",
    "\n",
    "        >>> saludos_predeterminado(\"Carlos\", \"Ana\", \"es\")\n",
    "        '¡Hola Ana, soy Carlos!'\n",
    "    \"\"\"\n",
    "    if idioma == \"en\":\n",
    "        return f\"Hello {alguien_mas}! I'm {yo_mismo}\"\n",
    "    else:\n",
    "        return f\"¡Hola {alguien_mas}, soy {yo_mismo}!\""
   ]
  },
  {
   "cell_type": "markdown",
   "id": "401f6a19",
   "metadata": {},
   "source": [
    "Probemos:"
   ]
  },
  {
   "cell_type": "code",
   "execution_count": null,
   "id": "6b6035a9",
   "metadata": {},
   "outputs": [],
   "source": [
    "greetings_default(\"Alfons\", \"Santi\", language=\"en\")"
   ]
  },
  {
   "cell_type": "code",
   "execution_count": null,
   "id": "295c16f5",
   "metadata": {},
   "outputs": [],
   "source": [
    "greetings_default(\"Alfons\", \"Santi\")"
   ]
  },
  {
   "cell_type": "markdown",
   "id": "fc5822af",
   "metadata": {},
   "source": [
    "y si..."
   ]
  },
  {
   "cell_type": "code",
   "execution_count": null,
   "id": "c475b080",
   "metadata": {},
   "outputs": [],
   "source": [
    "greetings_default(\"Alfons\", \"Santi\", \"es\")"
   ]
  },
  {
   "cell_type": "markdown",
   "id": "ee22d185",
   "metadata": {},
   "source": [
    "2. otro ejemplo `calculation (num_1, num_2, operation=\"+\")`"
   ]
  },
  {
   "cell_type": "code",
   "execution_count": null,
   "id": "5910d035",
   "metadata": {},
   "outputs": [],
   "source": [
    "# default arguments\n",
    "\n",
    "# Operation\n",
    "    # By default: add two numbers\n",
    "    # Multiply or divide two numbers"
   ]
  },
  {
   "cell_type": "code",
   "execution_count": null,
   "id": "8071738a",
   "metadata": {},
   "outputs": [],
   "source": [
    "def calculation (num1, num2, operation=\"+\"):\n",
    "    #  add two numbers\n",
    "    if operation == \"+\":\n",
    "        return num1 + num2\n",
    "    \n",
    "    # multiply\n",
    "    elif operation == \"*\":\n",
    "        return num1 * num2\n",
    "    \n",
    "    # divide: \"/\"\n",
    "    elif operation == \"/\":\n",
    "        return num1 / num2\n",
    "    \n",
    "    else:\n",
    "        return \"Watch out. This is not permitted\""
   ]
  },
  {
   "cell_type": "code",
   "execution_count": null,
   "id": "34184c02",
   "metadata": {},
   "outputs": [],
   "source": [
    "def calculo(num1: float, num2: float, operacion: str = \"+\") -> float:\n",
    "    \"\"\"\n",
    "    Realiza cálculos matemáticos con dos números.\n",
    "\n",
    "    Argumentos:\n",
    "        num1 (float): El primer número.\n",
    "        num2 (float): El segundo número.\n",
    "        operacion (str, opcional): La operación matemática a realizar.\n",
    "            Puede ser \"+\", \"*\", \"/\", o cualquier otro string. Por defecto es \"+\".\n",
    "\n",
    "    Devuelve:\n",
    "        float: El resultado de la operación matemática.\n",
    "\n",
    "    Ejemplo:\n",
    "        >>> calculo(5, 3)\n",
    "        8.0\n",
    "\n",
    "        >>> calculo(5, 3, \"*\")\n",
    "        15.0\n",
    "\n",
    "        >>> calculo(5, 3, \"/\")\n",
    "        1.6666666666666667\n",
    "\n",
    "        >>> calculo(5, 3, \"-\")\n",
    "        'Cuidado. Esto no está permitido'\n",
    "    \"\"\"\n",
    "    if operacion == \"+\":\n",
    "        return num1 + num2\n",
    "    elif operacion == \"*\":\n",
    "        return num1 * num2\n",
    "    elif operacion == \"/\":\n",
    "        return num1 / num2\n",
    "    else:\n",
    "        return \"Cuidado. Esto no está permitido\""
   ]
  },
  {
   "cell_type": "code",
   "execution_count": null,
   "id": "8923e42c",
   "metadata": {},
   "outputs": [],
   "source": [
    "calculation (10, 4, operation=\"+\")"
   ]
  },
  {
   "cell_type": "code",
   "execution_count": null,
   "id": "f6d59ff5",
   "metadata": {},
   "outputs": [],
   "source": [
    "calculation (10, 4) # defaults we don't need to call"
   ]
  },
  {
   "cell_type": "markdown",
   "id": "a58e3590",
   "metadata": {},
   "source": [
    "Let's try different operations:"
   ]
  },
  {
   "cell_type": "code",
   "execution_count": null,
   "id": "b8a91b6d",
   "metadata": {},
   "outputs": [],
   "source": [
    "calculation (10, 4, \"*\")"
   ]
  },
  {
   "cell_type": "code",
   "execution_count": null,
   "id": "faa5f70a",
   "metadata": {},
   "outputs": [],
   "source": [
    "calculation (10, 4, \"/\")"
   ]
  },
  {
   "cell_type": "code",
   "execution_count": null,
   "id": "c5b8ebbc",
   "metadata": {},
   "outputs": [],
   "source": [
    "calculation (10, 4, \"**\") # else"
   ]
  },
  {
   "cell_type": "code",
   "execution_count": null,
   "id": "b701d546",
   "metadata": {},
   "outputs": [],
   "source": [
    "calculation (10, 4, \"//\") # else"
   ]
  },
  {
   "cell_type": "markdown",
   "id": "37fbea85",
   "metadata": {},
   "source": [
    "#### argumentos posicionales y argumentos de palabra clave\n",
    "\n",
    "En las funciones de Python, puedes definir parámetros que aceptan valores ya sea a través de su posición en la llamada a la función (argumentos posicionales) o especificando los nombres de los parámetros explícitamente (argumentos de palabra clave). Así es cómo funcionan:\n",
    "\n",
    "`def suma(num_1, algun_nombre=conunvalor)`\n",
    "\n",
    "#### Argumentos Posicionales\n",
    "\n",
    "Los argumentos posicionales se pasan a una función basándose en su posición en la llamada a la función. El orden de los argumentos importa, y se asignan a los parámetros correspondientes en la definición de la función.\n",
    "\n",
    "Ejemplo:\n",
    "\n",
    "```python\n",
    "def suma(num_1, num_2):\n",
    "    return num_1 + num_2\n",
    "\n",
    "resultado = suma(5, 3)  # num_1 recibe 5, num_2 recibe 3\n",
    "```\n",
    "\n",
    "#### Argumentos de Palabra Clave\n",
    "\n",
    "Los argumentos de palabra clave se pasan especificando los nombres de los parámetros junto con sus valores en la llamada a la función. Esto permite pasar argumentos fuera de orden u omitir algunos argumentos si sus valores predeterminados están definidos en la función.\n",
    "\n",
    "```python\n",
    "def saludo(nombre, edad=30):\n",
    "    return f\"Hola, {nombre}! Tienes {edad} años.\"\n",
    "\n",
    "mensaje = saludo(nombre=\"Alice\", edad=25)\n",
    "```\n",
    "\n",
    "#### `*args`\n",
    "\n",
    "En Python, el parámetro especial `*args` en una función se usa para pasar opcionalmente un número variable de argumentos **posicionales**. Te permite pasar cualquier número de argumentos a la función, y se recopilan en una tupla.\n",
    "\n",
    "Aplicaremos lo que hemos aprendido hasta ahora trabajando a través de un ejemplo práctico. Crearemos una función de Python que calcula el costo total de un carrito de compras. Esta función tomará los precios de los artículos como argumentos posicionales y aplicará un descuento utilizando un argumento de palabra clave.\n",
    "\n",
    "Pero primero, revisemos una expresión regular:"
   ]
  },
  {
   "cell_type": "code",
   "execution_count": null,
   "id": "bc375e98",
   "metadata": {},
   "outputs": [],
   "source": [
    "def addition (a, b, c):\n",
    "    return a + b + c"
   ]
  },
  {
   "cell_type": "code",
   "execution_count": null,
   "id": "3020c336",
   "metadata": {},
   "outputs": [],
   "source": [
    "addition(10, 4, 10)"
   ]
  },
  {
   "cell_type": "code",
   "execution_count": null,
   "id": "43417ee1",
   "metadata": {},
   "outputs": [],
   "source": [
    "addition(1, 2)"
   ]
  },
  {
   "cell_type": "markdown",
   "id": "7fee6e45",
   "metadata": {},
   "source": [
    "What `*args` provide to us, and `unkown number of arguments`"
   ]
  },
  {
   "cell_type": "code",
   "execution_count": null,
   "id": "79a12629",
   "metadata": {},
   "outputs": [],
   "source": [
    "def calcular_costo_total(descuento=0, *articulos):\n",
    "    \"\"\"\n",
    "    Calcula el costo total de los artículos en un carrito de compras, considerando un descuento opcional.\n",
    "\n",
    "    Argumentos:\n",
    "        descuento (float): Un porcentaje de descuento (0-100) para aplicar al costo total. Por defecto es 0.\n",
    "        *articulos (float): Argumentos posicionales que representan los precios de los artículos individuales.\n",
    "\n",
    "    Devuelve:\n",
    "        float: El costo total después de aplicar el descuento.\n",
    "\n",
    "    Ejemplo:\n",
    "        >>> calcular_costo_total(10, 20, 30, 40)  # Aplicando un 10% de descuento a los artículos\n",
    "        108.0\n",
    "    \"\"\"\n",
    "    costo_total = sum(articulos)\n",
    "    costo_con_descuento = costo_total * (1 - descuento / 100)\n",
    "    return costo_con_descuento"
   ]
  },
  {
   "cell_type": "markdown",
   "id": "e2ec9579",
   "metadata": {},
   "source": [
    "En este ejemplo:\n",
    "\n",
    "- Definimos una función `calcular_costo_total` que acepta un descuento opcional (un porcentaje) como un argumento de palabra clave y cualquier número de precios de artículos como argumentos posicionales usando `*articulos`.\n",
    "- Calculamos el costo total de los artículos sumando sus precios.\n",
    "- Aplicamos el descuento si se proporciona, y se devuelve el costo final."
   ]
  },
  {
   "cell_type": "code",
   "execution_count": null,
   "id": "05860f96",
   "metadata": {},
   "outputs": [],
   "source": [
    "# Calculate the total cost of items with a 10% discount\n",
    "total1 = calculate_total_cost(10, 20, 30, 40)\n",
    "print(\"Total Cost (10% Discount):\", total1)"
   ]
  },
  {
   "cell_type": "code",
   "execution_count": null,
   "id": "5974500a",
   "metadata": {},
   "outputs": [],
   "source": [
    "# Calculate the total cost of items with a 20% discount\n",
    "total2 = calculate_total_cost(20, 50, 75, 100, 500)\n",
    "print(\"Total Cost (20% Discount):\", total2)"
   ]
  },
  {
   "cell_type": "markdown",
   "id": "67833de1",
   "metadata": {},
   "source": [
    "#### **kwargs\n",
    "\n",
    "En Python, `**kwargs` es un parámetro especial en una función que te permite pasar un número variable de argumentos de palabra clave. Estos argumentos de palabra clave se pasan como un diccionario, lo que te permite manejar argumentos nombrados de manera flexible dentro de tu función. Esto puede ser especialmente útil cuando quieres proporcionar parámetros opcionales o manejar una variedad de argumentos de palabra clave en una sola función. Vamos a explorar cómo funciona `**kwargs` y cómo usarlo eficazmente.\n",
    "\n",
    "**Ejemplo 1:**"
   ]
  },
  {
   "cell_type": "code",
   "execution_count": null,
   "id": "2b500cfb",
   "metadata": {},
   "outputs": [],
   "source": [
    "from typing import Dict, Any\n",
    "\n",
    "# Ejemplo 1: Usando **kwargs para Argumentos de Palabra Clave\n",
    "\n",
    "def mostrar_informacion_usuario(nombre: str, edad: int, **kwargs: Any) -> str:\n",
    "    \"\"\"\n",
    "    Muestra la información del usuario.\n",
    "\n",
    "    Argumentos:\n",
    "        nombre (str): El nombre del usuario.\n",
    "        edad (int): La edad del usuario.\n",
    "        **kwargs: Argumentos de palabra clave adicionales para la información del usuario (por ejemplo, ciudad, país).\n",
    "\n",
    "    Devuelve:\n",
    "        str: Una cadena de información del usuario formateada.\n",
    "\n",
    "    Ejemplo:\n",
    "        >>> mostrar_informacion_usuario(\"Alice\", 30, ciudad=\"Nueva York\", pais=\"EE.UU.\")\n",
    "        'Nombre: Alice, Edad: 30, Ciudad: Nueva York, País: EE.UU.'\n",
    "    \"\"\"\n",
    "    info_usuario = {\n",
    "        \"Nombre\": nombre,\n",
    "        \"Edad\": edad,\n",
    "        **kwargs,\n",
    "    }\n",
    "    cadena_info = \", \".join(f\"{clave}: {valor}\" for clave, valor in info_usuario.items())\n",
    "    return cadena_info"
   ]
  },
  {
   "cell_type": "code",
   "execution_count": null,
   "id": "52e82ecf",
   "metadata": {},
   "outputs": [],
   "source": [
    "# Example usage:\n",
    "user_info = display_user_info(\"Alice\", 30, city=\"New York\", country=\"USA\")\n",
    "print(user_info)"
   ]
  },
  {
   "cell_type": "code",
   "execution_count": null,
   "id": "77ce5545",
   "metadata": {},
   "outputs": [],
   "source": [
    "# Ejemplo 2: Usando *args y **kwargs Juntos\n",
    "\n",
    "# Cuando anotas **kwargs con Dict[str, Any], estás indicando que debe ser un diccionario donde\n",
    "# las claves son cadenas, y los valores pueden ser de cualquier tipo de dato.\n",
    "\n",
    "def procesar_datos(*args: int, **kwargs: Dict[str, Any]) -> int:\n",
    "    \"\"\"\n",
    "    Procesa datos realizando operaciones en argumentos posicionales y utilizando argumentos de palabra clave.\n",
    "\n",
    "    Argumentos:\n",
    "        *args (int): Número variable de valores enteros para el procesamiento.\n",
    "        **kwargs: Argumentos de palabra clave para especificar la operación ('add' o 'multiply').\n",
    "\n",
    "    Devuelve:\n",
    "        int: El resultado del procesamiento de datos.\n",
    "\n",
    "    Ejemplo:\n",
    "        >>> procesar_datos(2, 3, 4, operacion='add')\n",
    "        9\n",
    "        >>> procesar_datos(2, 3, 4, operacion='multiply')\n",
    "        24\n",
    "    \"\"\"\n",
    "    # El primer argumento es la clave que queremos recuperar del diccionario ('operacion' en este caso).\n",
    "    # El segundo argumento es un valor predeterminado que se devolverá si la clave no se encuentra en el diccionario\n",
    "    # ('add' en este caso).\n",
    "    operacion = kwargs.get('operacion', 'add')\n",
    "    \n",
    "    if operacion == 'add':\n",
    "        resultado = sum(args)\n",
    "    elif operacion == 'multiply':\n",
    "        resultado = 1\n",
    "        for valor in args:\n",
    "            resultado *= valor\n",
    "    else:\n",
    "        raise ValueError(\"Operación especificada inválida.\")\n",
    "    \n",
    "    return resultado"
   ]
  },
  {
   "cell_type": "code",
   "execution_count": null,
   "id": "73533b82",
   "metadata": {},
   "outputs": [],
   "source": [
    "result1 = process_data(2, 3, 4, operation='add')\n",
    "result2 = process_data(2, 3, 4, operation='multiply')\n",
    "print(result1)\n",
    "print(result2)"
   ]
  },
  {
   "cell_type": "markdown",
   "id": "8821d732",
   "metadata": {},
   "source": [
    "#### orden\n",
    "\n",
    "En Python, `**kwargs` es un nombre comúnmente utilizado para el parámetro que recopila argumentos de palabra clave en una función. Aunque técnicamente puedes usar un nombre diferente para este parámetro (por ejemplo, `**argumentos_personalizados`), es una convención ampliamente aceptada usar `**kwargs` para hacer tu código más legible y mantenible. Utilizar el nombre estándar `**kwargs` ayuda a otros desarrolladores de Python a entender tu código y seguir las convenciones de Python.\n",
    "\n",
    "`def ejemplo(arg1, arg2, *args, **kwargs)`"
   ]
  },
  {
   "cell_type": "code",
   "execution_count": null,
   "id": "63a80e56",
   "metadata": {},
   "outputs": [],
   "source": [
    "def a_function (posarg1, posarg2, *args, **kwargs):\n",
    "    pass"
   ]
  },
  {
   "cell_type": "markdown",
   "id": "7cc86acc",
   "metadata": {},
   "source": [
    "Recuerda, `**kwargs` siempre se representa como un diccionario en Python. Es una sintaxis especial que te permite pasar un número variable de argumentos de palabra clave a una función, y esos argumentos de palabra clave se recopilan y almacenan como pares clave-valor en un diccionario dentro de la función."
   ]
  },
  {
   "cell_type": "markdown",
   "id": "e84ee79f",
   "metadata": {},
   "source": [
    "### Ejercicio: Generador de Informes de Ventas\n",
    "\n",
    "**Escenario Empresarial:**\n",
    "Imagina que trabajas para una empresa minorista que vende gadgets electrónicos. Tu tarea es crear un programa en Python que genere informes de ventas basados en varios parámetros. Necesitas definir una función que tome múltiples argumentos, incluidos los opcionales, y devuelva un resumen de los datos de ventas.\n",
    "\n",
    "**Instrucciones:**\n",
    "\n",
    "1. Define una función llamada `generate_sales_report` con los siguientes parámetros:\n",
    "   - `store_name` (str): El nombre de la tienda minorista.\n",
    "   - `date` (str): La fecha del informe de ventas.\n",
    "   - `sales_data` (lista de tuplas): Una lista de datos de ventas. Cada tupla en la lista representa la venta de un gadget electrónico y contiene los siguientes elementos:\n",
    "     - Nombre del artículo (str)\n",
    "     - Precio unitario (float)\n",
    "     - Cantidad vendida (int)\n",
    "\n",
    "2. Utiliza **anotaciones de tipo de datos** para especificar los tipos de datos esperados para cada parámetro.\n",
    "\n",
    "3. Incluye un **docstring** que explique qué hace la función y describa cada parámetro.\n",
    "\n",
    "4. Implementa la función para calcular y devolver la siguiente información:\n",
    "   - La **cantidad total de ventas** de todos los artículos.\n",
    "   - El **precio unitario promedio** de los artículos vendidos.\n",
    "   - El **número total de artículos** vendidos.\n",
    "   - El **artículo más caro** vendido (nombre del artículo y precio).\n",
    "   - El **artículo menos caro** vendido (nombre del artículo y precio).\n",
    "\n",
    "5. Usa el parámetro `*args` para permitir un número variable de tuplas de datos de ventas. La función debería poder manejar cualquier número de tuplas de datos de ventas.\n",
    "\n",
    "6. Usa el parámetro `**kwargs` para permitir argumentos de palabra clave opcionales. Incluye los siguientes argumentos de palabra clave opcionales:\n",
    "   - `include_tax` (bool, predeterminado False): Si es True, calcula la cantidad total de ventas incluyendo un impuesto sobre las ventas del 10%.\n",
    "   - `currency` (str, predeterminado 'USD'): El símbolo de moneda a usar en el informe.\n",
    "\n",
    "7. Crea un informe de ventas de ejemplo usando la función `generate_sales_report`. Incluye una mezcla de diferentes gadgets, cantidades y precios en los datos de ventas.\n",
    "\n",
    "8. Imprime el informe de ventas, incluyendo toda la información calculada, en un formato amigable para el usuario.\n",
    "\n",
    "9. Prueba la función con diferentes conjuntos de datos de ventas y argumentos de palabra clave opcionales para asegurarte de que funcione como se espera.\n",
    "\n",
    "**Nota:** Puedes asumir que los datos de ventas siempre se proporcionarán como una lista de tuplas, pero el número de tuplas de datos de ventas puede variar.\n",
    "\n",
    "Este ejercicio te ayudará a practicar la definición de funciones con varios parámetros, el manejo de argumentos de palabra clave opcionales y la producción de informes informativos.\n"
   ]
  },
  {
   "cell_type": "code",
   "execution_count": null,
   "id": "804008c2",
   "metadata": {},
   "outputs": [],
   "source": [
    "from typing import List, Tuple\n",
    "\n",
    "def generate_sales_report()  :\n",
    "    \"\"\"\n",
    "       COMMENT HERE\n",
    "    \"\"\"\n",
    "    # Your code here\n",
    "\n",
    "    return report\n",
    "\n",
    "# Example usage:\n",
    "sales_report = generate_sales_report(\"Gadget Store\", \"2023-09-15\", (\"Phone\", 499.99, 10), (\"Tablet\", 299.99, 5), include_tax=True, currency='EUR')\n",
    "print(sales_report)"
   ]
  },
  {
   "cell_type": "markdown",
   "id": "5a76c906",
   "metadata": {},
   "source": [
    "### return\n",
    "\n",
    "- La instrucción `return` se utiliza para devolver algo desde una función.\n",
    "- Una función puede tener más de una instrucción `return`, pero solo una de ellas se ejecuta cuando se llama a la función.\n",
    "- Es importante señalar que, después de que una función devuelve algo, la ejecución de la función se detiene y el control se devuelve al llamador.\n",
    "\n",
    "\n",
    "`función con return`:\n",
    "\n",
    "En Python, las funciones a menudo incluyen la instrucción `return` para proporcionar un resultado o valor de vuelta al código que llamó a la función. Aquí tienes un ejemplo de una función simple con una instrucción `return`:"
   ]
  },
  {
   "cell_type": "code",
   "execution_count": null,
   "id": "0c028389",
   "metadata": {},
   "outputs": [],
   "source": [
    "def addition_return (a, b):\n",
    "    return a + b"
   ]
  },
  {
   "cell_type": "code",
   "execution_count": null,
   "id": "0d7be21c",
   "metadata": {},
   "outputs": [],
   "source": [
    "addition_return (2, 3)"
   ]
  },
  {
   "cell_type": "markdown",
   "id": "b61cca6c",
   "metadata": {},
   "source": [
    "En este ejemplo:\n",
    "\n",
    "- La función `addition_return` toma dos argumentos, `a` y `b`.\n",
    "- Utiliza la instrucción `return` para calcular la suma de `a` y `b`.\n",
    "- Cuando llamas a esta función con `addition_return(2, 3)`, devuelve `5`, que es el resultado de sumar `2` y `3`.\n",
    "\n",
    "`función sin return`: NoneType\n",
    "\n",
    "En Python, no todas las funciones están diseñadas para devolver un valor. Algunas funciones tienen como objetivo realizar acciones u operaciones sin producir un resultado específico que necesite ser capturado. Estas funciones se denominan como que tienen un tipo de retorno `NoneType`, lo que se representa con la palabra clave `None`. Cuando una función no incluye una instrucción `return` o incluye una instrucción `return` sin una expresión, implícitamente devuelve `None`.\n",
    "\n",
    "Exploremos funciones sin valor de retorno usando un ejemplo:"
   ]
  },
  {
   "cell_type": "code",
   "execution_count": null,
   "id": "03cf5bb8",
   "metadata": {},
   "outputs": [],
   "source": [
    "def addition_print(a, b):\n",
    "    print(a + b)"
   ]
  },
  {
   "cell_type": "code",
   "execution_count": null,
   "id": "2ec08a06",
   "metadata": {},
   "outputs": [],
   "source": [
    "addition_print(2, 3)"
   ]
  },
  {
   "cell_type": "markdown",
   "id": "20c9945b",
   "metadata": {},
   "source": [
    "En este ejemplo, la función `addition_print` toma dos argumentos, `a` y `b`, y realiza la suma de estos valores. Sin embargo, en lugar de usar una instrucción de retorno para proporcionar un resultado, utiliza la función print para mostrar el resultado en la consola.\n",
    "\n",
    "Cuando llamas a `addition_print(2, 3)`, realiza la suma `2 + 3`, que resulta en `5`. Sin embargo, no hay una instrucción de retorno explícita, por lo que la función implícitamente devuelve `None`. Por lo tanto, si fueras a asignar el resultado de `addition_print(2, 3)` a una variable, esa variable contendría el valor `None`.\n",
    "\n",
    "Funciones como estas se usan comúnmente cuando quieres realizar alguna acción o efecto secundario, como imprimir salida, sin devolver un valor específico. **Pero, ¿cuáles son los tipos?**"
   ]
  },
  {
   "cell_type": "code",
   "execution_count": null,
   "id": "f3b3d067",
   "metadata": {},
   "outputs": [],
   "source": [
    "type(addition_return (2, 3))"
   ]
  },
  {
   "cell_type": "code",
   "execution_count": null,
   "id": "99757fb5",
   "metadata": {},
   "outputs": [],
   "source": [
    "type(addition_print (2, 3))"
   ]
  },
  {
   "cell_type": "markdown",
   "id": "3f0b4787",
   "metadata": {},
   "source": [
    "`accediendo al valor del resultado de la función`: print & return\n",
    "\n",
    "En Python, las funciones juegan un papel crucial en la realización de varias tareas y cálculos. Cuando llamas a una función, puede proporcionarte un resultado, el cual podrías querer acceder o usar en tu programa. Esta sección explora dos maneras comunes de acceder al valor del resultado de una función: usando declaraciones `print` y utilizando la instrucción `return`.\n",
    "\n",
    "Profundicemos en estos dos enfoques para entender cómo nos permiten trabajar con los resultados producidos por las funciones. **Empecemos con return:**"
   ]
  },
  {
   "cell_type": "code",
   "execution_count": null,
   "id": "fcb32bfa",
   "metadata": {},
   "outputs": [],
   "source": [
    "def addition (a, b):\n",
    "    return a + b"
   ]
  },
  {
   "cell_type": "code",
   "execution_count": null,
   "id": "b5203222",
   "metadata": {},
   "outputs": [],
   "source": [
    "addition (3, 5)"
   ]
  },
  {
   "cell_type": "code",
   "execution_count": null,
   "id": "412e2160",
   "metadata": {},
   "outputs": [],
   "source": [
    "result = addition (3, 5)"
   ]
  },
  {
   "cell_type": "code",
   "execution_count": null,
   "id": "be03cb6e",
   "metadata": {},
   "outputs": [],
   "source": [
    "result * 100"
   ]
  },
  {
   "cell_type": "code",
   "execution_count": null,
   "id": "ae49f5bb",
   "metadata": {},
   "outputs": [],
   "source": [
    "def greeting (name):\n",
    "    return f\"Hello! My name is {name}\"\n",
    "\n",
    "laura_says = greeting(\"Laura\")\n",
    "laura_says.upper()"
   ]
  },
  {
   "cell_type": "markdown",
   "id": "2ea59d04",
   "metadata": {},
   "source": [
    "**Ahora, lo imprimimos:**"
   ]
  },
  {
   "cell_type": "code",
   "execution_count": null,
   "id": "dc72ddbd",
   "metadata": {},
   "outputs": [],
   "source": [
    "def greeting (name):\n",
    "    print(f\"Hello! My name is {name}\")"
   ]
  },
  {
   "cell_type": "code",
   "execution_count": null,
   "id": "258cf7d5",
   "metadata": {},
   "outputs": [],
   "source": [
    "laura_says = greeting(\"Laura\")"
   ]
  },
  {
   "cell_type": "code",
   "execution_count": null,
   "id": "34617699",
   "metadata": {},
   "outputs": [],
   "source": [
    "laura_says.upper()"
   ]
  },
  {
   "cell_type": "markdown",
   "id": "309bb330",
   "metadata": {},
   "source": [
    "`más de un return`\n",
    "\n",
    "En Python, las funciones son herramientas versátiles que pueden realizar múltiples comprobaciones o tareas y proporcionar resultados basados en diversas condiciones. Esta sección explora el concepto de tener más de una instrucción return dentro de una función.\n",
    "\n",
    "Considera la función de ejemplo `validador_de_contraseña`. Verifica dos condiciones: la longitud de una contraseña y la presencia de un carácter guión (\"-\"). Dependiendo de estas condiciones, la función puede devolver diferentes mensajes.\n",
    "\n",
    "Examinemos cómo las funciones pueden tener múltiples puntos de retorno para proporcionar diferentes resultados basados en criterios específicos."
   ]
  },
  {
   "cell_type": "code",
   "execution_count": null,
   "id": "479b49f3",
   "metadata": {},
   "outputs": [],
   "source": [
    "def password_validator (password):\n",
    "    \n",
    "    if len(password) > 8:\n",
    "        print(\"long\")\n",
    "        \n",
    "    if \"-\" in password:\n",
    "        print(\"there's a dash\")\n"
   ]
  },
  {
   "cell_type": "code",
   "execution_count": null,
   "id": "fd673246",
   "metadata": {},
   "outputs": [],
   "source": [
    "password_validator (\"test-8characters\")"
   ]
  },
  {
   "cell_type": "markdown",
   "id": "a49885c6",
   "metadata": {},
   "source": [
    "otro ejemplo:"
   ]
  },
  {
   "cell_type": "code",
   "execution_count": null,
   "id": "25678952",
   "metadata": {},
   "outputs": [],
   "source": [
    "def password_validator (password):\n",
    "    \n",
    "    if len(password) > 8:\n",
    "        print(\"BEFORE RETURN\")\n",
    "        return \"ok\"\n",
    "        print(\"AFTER RETURN\")\n",
    "        \n",
    "    if \"-\" in password:\n",
    "        print(\"BEFORE RETURN\")\n",
    "        return \"ok2\"\n",
    "        print(\"AFTER RETURN\")"
   ]
  },
  {
   "cell_type": "markdown",
   "id": "f78d8de1",
   "metadata": {},
   "source": [
    "password_validator (\"test-8characters\")"
   ]
  },
  {
   "cell_type": "markdown",
   "id": "d4a7b05b",
   "metadata": {},
   "source": [
    "### Docstrings: documentation strings"
   ]
  },
  {
   "cell_type": "markdown",
   "id": "65bd3a59",
   "metadata": {},
   "source": [
    "En la programación, escribir código que sea claro, conciso y bien documentado es esencial. El código no es solo para las computadoras; también es para los humanos que lo leen, entienden y mantienen. La calidad de tu código puede impactar significativamente la productividad y colaboración de tu equipo.\n",
    "\n",
    "### La Importancia de la Legibilidad del Código\n",
    "\n",
    "1. **Escrito Una Vez, Leído Muchas Veces**: El código típicamente se escribe una vez pero se lee y mantiene muchas veces a lo largo de su vida útil. Por lo tanto, es crucial hacer que tu código sea fácil de entender.\n",
    "\n",
    "2. **Entendiendo Tu Trabajo**: Cuando escribes código, piensa en tus colegas y futuros desarrolladores que puedan necesitar trabajar con él. Un código claro y autoexplicativo les ayuda a entender tus intenciones.\n",
    "\n",
    "3. **Documentación con Docstrings**: Una forma de mejorar la claridad del código es utilizando docstrings. Un docstring es un comentario de múltiples líneas que describe el propósito, parámetros y valores de retorno de una función, clase o módulo.\n",
    "\n",
    "### Ejemplo: La Función Gato\n",
    "\n",
    "En este ejemplo, hemos definido una función simple llamada `gato`. Esta función devuelve la cadena \"miau\". Para hacer este código más comprensible, hemos añadido un docstring que explica lo que hace la función `gato`.\n"
   ]
  },
  {
   "cell_type": "code",
   "execution_count": null,
   "id": "288ce2bd",
   "metadata": {},
   "outputs": [],
   "source": [
    "def cat():\n",
    "    \"\"\"\n",
    "    This function returns the sound of a cat, which is 'meow.'\n",
    "    \"\"\"\n",
    "    return \"meow\""
   ]
  },
  {
   "cell_type": "markdown",
   "id": "14e0777b",
   "metadata": {},
   "source": [
    "En este ejemplo, hemos definido una función `cat` que devuelve \"meow\". Hemos declarado un docstring que explica lo que hace la función. Para obtener el docstring de una función, necesitamos mostrar el atributo `__doc__` (usar `print(cat.__doc__)`).\n",
    "\n",
    "Referencia fotográfica, descripción y más información sobre docstring [aquí](https://techiestuff.netlify.app/blog/what-is-a-python-docstring/)."
   ]
  },
  {
   "cell_type": "code",
   "execution_count": null,
   "id": "23dba97f",
   "metadata": {},
   "outputs": [],
   "source": [
    "cat.__doc__"
   ]
  },
  {
   "cell_type": "code",
   "execution_count": null,
   "id": "620ff812",
   "metadata": {},
   "outputs": [],
   "source": [
    "help(cat)"
   ]
  },
  {
   "cell_type": "markdown",
   "id": "64cd7628",
   "metadata": {},
   "source": [
    "Clean code standards for docstring:"
   ]
  },
  {
   "cell_type": "code",
   "execution_count": null,
   "id": "3f02a6d4",
   "metadata": {},
   "outputs": [],
   "source": [
    "\"\"\"\n",
    "Describes the function's purpose and usage.\n",
    "\n",
    "Parameters:\n",
    "    param_1 (data_type): Description of the first parameter.\n",
    "    param_2 (data_type): Description of the second parameter. (If applicable)\n",
    "    ...\n",
    "    param_n (data_type): Description of the nth parameter. (If applicable)\n",
    "    \n",
    "Arguments:\n",
    "    arg_1 (data_type): Description of the first argument. (If applicable)\n",
    "    arg_2 (data_type): Description of the second argument. (If applicable)\n",
    "    ...\n",
    "    arg_n (data_type): Description of the nth argument. (If applicable)\n",
    "\n",
    "Keyword Arguments:\n",
    "    kwarg_1 (data_type): Description of the first keyword argument. (If applicable)\n",
    "    kwarg_2 (data_type): Description of the second keyword argument. (If applicable)\n",
    "    ...\n",
    "    kwarg_n (data_type): Description of the nth keyword argument. (If applicable)\n",
    "\n",
    "Returns:\n",
    "    return_type: Description of the return value.\n",
    "\n",
    "Examples:\n",
    "    >>> function_name(arg_1, arg_2, kwarg_1=value)\n",
    "    Expected output or description of the result.\n",
    "    >>> another_function(arg)\n",
    "    Expected output or description of the result.\n",
    "\"\"\""
   ]
  },
  {
   "cell_type": "markdown",
   "id": "1bcd1e17",
   "metadata": {},
   "source": [
    "### código fuente\n",
    "\n",
    "En esta sección, exploraremos cómo acceder e imprimir el código fuente de una función usando el módulo `inspect` de Python. Aprenderemos cómo recuperar el código real que define una función. Esto puede ser útil para entender cómo está implementada una función o para propósitos de depuración.\n",
    "\n",
    "Profundicemos en cómo puedes acceder y mostrar el código fuente de una función en Python."
   ]
  },
  {
   "cell_type": "code",
   "execution_count": null,
   "id": "6a6334c9",
   "metadata": {},
   "outputs": [],
   "source": [
    "import inspect\n",
    "print(inspect.getsource(cat))"
   ]
  },
  {
   "cell_type": "markdown",
   "id": "86c5ccda",
   "metadata": {
    "lang": "en"
   },
   "source": [
    "## Ámbito de las funciones\n",
    "\n",
    "En Python, el ámbito de una variable se refiere a la región de código donde esa variable puede ser accedida o modificada. Entender el ámbito de las variables es crucial cuando se trabaja con funciones, ya que determina qué variables puede ver y manipular una función.\n",
    "\n",
    "Hay dos direcciones principales del ámbito de las variables en Python: \"de exterior a interior\" y \"de interior a exterior\". En la dirección \"de exterior a interior\", las variables definidas fuera de una función son accesibles dentro de la función. En la dirección \"de interior a exterior\", las variables definidas dentro de una función no son accesibles fuera de esa función.\n",
    "\n",
    "Exploraremos ambos escenarios y discutiremos cómo el ámbito de las variables afecta el comportamiento de las funciones."
   ]
  },
  {
   "cell_type": "markdown",
   "id": "a353567d",
   "metadata": {},
   "source": [
    "`outer to inner`"
   ]
  },
  {
   "cell_type": "code",
   "execution_count": null,
   "id": "3ac13319",
   "metadata": {},
   "outputs": [],
   "source": [
    "def addition (a, b):\n",
    "    return a + b\n",
    "\n",
    "a = 10\n",
    "\n",
    "addition(a, 10)"
   ]
  },
  {
   "cell_type": "code",
   "execution_count": null,
   "id": "7264106c",
   "metadata": {},
   "outputs": [],
   "source": [
    "print(a)"
   ]
  },
  {
   "cell_type": "markdown",
   "id": "c26ce173",
   "metadata": {},
   "source": [
    "`inner to outter` "
   ]
  },
  {
   "cell_type": "code",
   "execution_count": null,
   "id": "c481462a",
   "metadata": {},
   "outputs": [],
   "source": [
    "def addition (a, b):\n",
    "    d = a + b\n",
    "    return c\n",
    "\n",
    "addition(10, 10)"
   ]
  },
  {
   "cell_type": "code",
   "execution_count": null,
   "id": "9543059d",
   "metadata": {},
   "outputs": [],
   "source": [
    "print(d)"
   ]
  },
  {
   "cell_type": "markdown",
   "id": "80ccf4fe",
   "metadata": {},
   "source": [
    "[Extra: global variables](https://www.w3schools.com/python/python_variables_global.asp)"
   ]
  },
  {
   "cell_type": "markdown",
   "id": "28a2d72b",
   "metadata": {
    "lang": "en"
   },
   "source": [
    "## Lambda\n",
    "Las funciones lambda, también conocidas como funciones anónimas, son una forma concisa de definir funciones pequeñas y simples en Python. A diferencia de las funciones regulares definidas usando la palabra clave `def`, las funciones lambda son anónimas y a menudo se utilizan para operaciones cortas y únicas.\n",
    "\n",
    "### Sintaxis de una Función Lambda\n",
    "\n",
    "Una función lambda tiene la siguiente sintaxis:\n",
    "\n",
    "```python\n",
    "lambda <lista de parámetros>:<expresión de retorno>\n",
    "\n",
    "```\n",
    "En esta sintaxis, <lista de parámetros> representa la lista de parámetros que la función lambda toma, y <expresión de retorno> es la expresión que define lo que la función lambda devuelve. Las funciones lambda son particularmente útiles cuando necesitas pasar una función simple como argumento a otra función o usarlas en situaciones donde una definición completa de la función es innecesaria."
   ]
  },
  {
   "cell_type": "code",
   "execution_count": null,
   "id": "70f92966",
   "metadata": {},
   "outputs": [],
   "source": [
    "# Example 1: Lambda function that adds two numbers\n",
    "add = lambda x, y: x + y\n",
    "result = add(3, 5)  # Result will be 8"
   ]
  },
  {
   "cell_type": "code",
   "execution_count": null,
   "id": "bb727a71",
   "metadata": {},
   "outputs": [],
   "source": [
    "# Example 2: Lambda function that calculates the square of a number\n",
    "square = lambda x: x ** 2\n",
    "result = square(4)  # Result will be 16"
   ]
  },
  {
   "cell_type": "code",
   "execution_count": null,
   "id": "b9db6d51",
   "metadata": {},
   "outputs": [],
   "source": [
    "# Example 3: Lambda function to check if a number is even\n",
    "is_even = lambda x: x % 2 == 0\n",
    "result = is_even(6)  # Result will be True"
   ]
  },
  {
   "cell_type": "code",
   "execution_count": null,
   "id": "df627f42",
   "metadata": {},
   "outputs": [],
   "source": [
    "# Example 4: Lambda function to extract the last character of a string\n",
    "get_last_char = lambda s: s[-1]\n",
    "result = get_last_char(\"Hello\")  # Result will be \"o\""
   ]
  },
  {
   "cell_type": "markdown",
   "id": "5add6142",
   "metadata": {},
   "source": [
    "Estas funciones lambda son concisas y se pueden utilizar en situaciones en las que necesitas una función rápida y breve para realizar una tarea específica. Las funciones lambda se usan a menudo con funciones como `map()`, `filter()` y `sorted()` para definir un comportamiento personalizado para ordenar o procesar datos.\n",
    "\n",
    "### Desafío Lambda\n",
    "\n",
    "Convierte estas funciones regulares en lambda. **Challenge 1:**"
   ]
  },
  {
   "cell_type": "code",
   "execution_count": null,
   "id": "dd5493ea",
   "metadata": {},
   "outputs": [],
   "source": [
    "def add(a, b):\n",
    "    return a + b"
   ]
  },
  {
   "cell_type": "code",
   "execution_count": null,
   "id": "6237abf3",
   "metadata": {},
   "outputs": [],
   "source": [
    "# your code here"
   ]
  },
  {
   "cell_type": "markdown",
   "id": "8c07de69",
   "metadata": {},
   "source": [
    "**Challenge 2:**"
   ]
  },
  {
   "cell_type": "code",
   "execution_count": null,
   "id": "9bfaf3b5",
   "metadata": {},
   "outputs": [],
   "source": [
    "def square(x):\n",
    "    return x ** 2"
   ]
  },
  {
   "cell_type": "code",
   "execution_count": null,
   "id": "30643e09",
   "metadata": {},
   "outputs": [],
   "source": [
    "# your code here"
   ]
  },
  {
   "cell_type": "markdown",
   "id": "71527046",
   "metadata": {},
   "source": [
    "**Challenge 3:**"
   ]
  },
  {
   "cell_type": "code",
   "execution_count": null,
   "id": "cd9679c2",
   "metadata": {},
   "outputs": [],
   "source": [
    "def is_even(num):\n",
    "    return num % 2 == 0"
   ]
  },
  {
   "cell_type": "code",
   "execution_count": null,
   "id": "c3fce30a",
   "metadata": {},
   "outputs": [],
   "source": [
    "# your code here"
   ]
  },
  {
   "cell_type": "markdown",
   "id": "6f67a9bf",
   "metadata": {},
   "source": [
    "### `lambda` como opción de algunas otras funciones integradas\n",
    "\n",
    "Además de usar funciones `lambda` en expresiones independientes, también se pueden emplear como argumentos en llamadas a otras funciones. Esta capacidad permite un comportamiento personalizado al trabajar con varias funciones integradas, como `sorted()`, `filter()`, `map()` y más.\n",
    "\n",
    "Un caso de uso común es proporcionar una función `lambda` como argumento al parámetro clave en funciones de ordenación como `sorted()` y `list.sort()`. Esto te permite definir criterios de ordenación personalizados para tus datos.\n",
    "\n",
    "Aquí tienes un ejemplo de la sintaxis general de uso de funciones `lambda` como claves de ordenación:"
   ]
  },
  {
   "cell_type": "code",
   "execution_count": null,
   "id": "31abf911",
   "metadata": {},
   "outputs": [],
   "source": [
    "sorted_list = sorted(iterable, key=lambda item: custom_sort_logic(item))"
   ]
  },
  {
   "cell_type": "markdown",
   "id": "37d4bc2b",
   "metadata": {},
   "source": [
    "En esta sintaxis:\n",
    "\n",
    "- `iterable` es la colección de elementos que deseas ordenar.\n",
    "- `custom_sort_logic(item)` es la función lambda que define cómo los elementos deben ser comparados y ordenados basándose en alguna lógica personalizada.\n",
    "\n",
    "Veamos un ejemplo para ilustrar este concepto más a fondo:"
   ]
  },
  {
   "cell_type": "code",
   "execution_count": null,
   "id": "e037ed5a",
   "metadata": {},
   "outputs": [],
   "source": [
    "students = [\n",
    "    {\"name\": \"Alice\", \"age\": 25},\n",
    "    {\"name\": \"Bob\", \"age\": 22},\n",
    "    {\"name\": \"Charlie\", \"age\": 28},\n",
    "]\n",
    "\n",
    "# Sort the students based on their ages using a lambda function\n",
    "sorted_students = sorted(students, key=lambda student: student[\"age\"])\n",
    "\n",
    "print(sorted_students)"
   ]
  },
  {
   "cell_type": "markdown",
   "id": "51204969",
   "metadata": {},
   "source": [
    "En este ejemplo, usamos una función `lambda` como el argumento `key` en la función `sorted()` para ordenar la lista de estudiantes basándonos en sus edades. La función `lambda` especifica que queremos ordenar a los estudiantes por su clave **\"edad\"**.\n",
    "\n",
    "Esta flexibilidad de usar funciones `lambda` como argumentos te permite adaptar el comportamiento de las funciones integradas para satisfacer tus requisitos específicos, haciendo tu código más expresivo y adaptable.\n",
    "\n",
    "## Funciones: funciones como retorno de otra función\n",
    "\n",
    "En Python, las funciones no se limitan a ser solo bloques de código que realizan tareas específicas; también pueden usarse como datos. Esto significa que puedes definir funciones dentro de otras funciones e incluso devolver funciones desde otras funciones.\n",
    "\n",
    "Las funciones que devuelven otras funciones se conocen como funciones de orden superior. Estas funciones de orden superior te permiten crear funciones especializadas al vuelo, haciendo tu código más dinámico y adaptable. Así es como funciona:\n",
    "\n",
    "1. Una función puede definirse dentro de otra función.\n",
    "2. La función interna puede capturar y recordar las variables de su función contenedora (externa). Este concepto se conoce como \"cierre\".\n",
    "3. La función externa puede devolver la función interna como resultado.\n",
    "\n",
    "Esta funcionalidad te permite personalizar el comportamiento de las funciones basado en ciertas condiciones o configuraciones, lo cual puede ser extremadamente útil en varios escenarios de programación.\n",
    "\n",
    "Exploraremos este concepto más a fondo con algunos ejemplos para ver cómo las funciones pueden devolverse desde otras funciones."
   ]
  },
  {
   "cell_type": "code",
   "execution_count": null,
   "id": "8f32911f",
   "metadata": {},
   "outputs": [],
   "source": [
    "def greater_function (a, b):\n",
    "    if a > b:\n",
    "        return a\n",
    "    elif b > a:\n",
    "        return b"
   ]
  },
  {
   "cell_type": "code",
   "execution_count": null,
   "id": "abb606b1",
   "metadata": {},
   "outputs": [],
   "source": [
    "greater_function (3, 10)"
   ]
  },
  {
   "cell_type": "code",
   "execution_count": null,
   "id": "f08c4f12",
   "metadata": {},
   "outputs": [],
   "source": [
    "def lesser_function (x, y):\n",
    "    if x > y:\n",
    "        return y\n",
    "    elif y > x:\n",
    "        return x"
   ]
  },
  {
   "cell_type": "code",
   "execution_count": null,
   "id": "ceb69a36",
   "metadata": {},
   "outputs": [],
   "source": [
    "lesser_function (3, 10)"
   ]
  },
  {
   "cell_type": "code",
   "execution_count": null,
   "id": "216673ca",
   "metadata": {},
   "outputs": [],
   "source": [
    "def comparison (type_of_comparison): # lesser, greater\n",
    "    if type_of_comparison == \"greater\":\n",
    "        return greater_function\n",
    "    \n",
    "    elif type_of_comparison == \"lesser\":\n",
    "        return lesser_function"
   ]
  },
  {
   "cell_type": "code",
   "execution_count": null,
   "id": "581ecfc7",
   "metadata": {},
   "outputs": [],
   "source": [
    "comparison(\"greater\")(3, 10)"
   ]
  },
  {
   "cell_type": "code",
   "execution_count": null,
   "id": "d53723db",
   "metadata": {},
   "outputs": [],
   "source": [
    "comparison(\"lesser\")(3, 10)"
   ]
  },
  {
   "cell_type": "markdown",
   "id": "709d11f3",
   "metadata": {},
   "source": [
    "En el ejemplo dado:\n",
    "\n",
    "1. Tenemos tres funciones: `greater_function`, `lesser_function` y `comparison`.\n",
    "\n",
    "2. `greater_function` y `lesser_function` son responsables de comparar dos valores y devolver el mayor o el menor valor, respectivamente.\n",
    "\n",
    "3. La función `comparison` toma un argumento `type_of_comparison`, que puede ser \"greater\" (mayor) o \"lesser\" (menor).\n",
    "\n",
    "4. Dentro de la función `comparison`, usamos declaraciones condicionales para determinar qué función (`greater_function` o `lesser_function`) devolver basado en el `type_of_comparison`.\n",
    "\n",
    "5. Cuando llamamos a `comparison(\"greater\")`, devuelve una referencia a `greater_function` pero no la ejecuta inmediatamente.\n",
    "\n",
    "6. Ahora que tenemos una referencia a `greater_function`, podemos invocarla con argumentos específicos, como `greater_function(3, 10)`.\n",
    "\n",
    "7. La llamada `comparison(\"greater\")(3, 10)` es equivalente a `greater_function(3, 10)`, donde `greater_function` se ejecuta con los argumentos `3` y `10`.\n",
    "\n",
    "8. Como resultado, devuelve el mayor de los dos números, que es `10`.\n",
    "\n",
    "Esto demuestra el concepto de devolver funciones como objetos de primera clase en Python, permitiendo la selección y ejecución dinámica de funciones basadas en condiciones. Usando lambda, dentro de una función:"
   ]
  },
  {
   "cell_type": "code",
   "execution_count": null,
   "id": "c4e20987",
   "metadata": {},
   "outputs": [],
   "source": [
    "def comparison (type_of_comparison): # lesser, greater\n",
    "    if type_of_comparison == \"greater\":\n",
    "        return greater_function\n",
    "    \n",
    "    elif type_of_comparison == \"lesser\":\n",
    "        return lambda x, y: x if x < y else y"
   ]
  },
  {
   "cell_type": "code",
   "execution_count": null,
   "id": "8a120314",
   "metadata": {},
   "outputs": [],
   "source": [
    "comparison(\"lesser\")(3, 10)"
   ]
  },
  {
   "cell_type": "markdown",
   "id": "f90508d9",
   "metadata": {
    "lang": "en"
   },
   "source": [
    "## Recursión\n",
    "Se llama llamada recursiva (o recursión), a aquellas funciones que en su algoritmo, se refieren a sí mismas.\n",
    "\n",
    "Las llamadas recursivas suelen ser muy útiles en casos muy específicos, pero debido a su gran factibilidad de caer en iteraciones infinitas, se deben tomar medidas preventivas adecuadas y solo usarse cuando sea estrictamente necesario y no haya una manera alternativa viable de resolver el problema evitando la recursión.\n",
    "\n",
    "Python soporta llamadas recursivas, permitiendo que una función se llame a sí misma, tal como lo hace al llamar a otra función."
   ]
  },
  {
   "cell_type": "code",
   "execution_count": null,
   "id": "ac573bbc",
   "metadata": {},
   "outputs": [],
   "source": [
    "def user ():\n",
    "    \n",
    "    value = input(\"Please enter a value less than 5: \")\n",
    "    \n",
    "    while int(value) > 5:\n",
    "        value = input(\"Please enter a value less than 5: \")\n",
    "        \n",
    "    return int(value)"
   ]
  },
  {
   "cell_type": "code",
   "execution_count": null,
   "id": "b63b5f66",
   "metadata": {},
   "outputs": [],
   "source": [
    "user()"
   ]
  },
  {
   "cell_type": "markdown",
   "id": "419b6db5",
   "metadata": {},
   "source": [
    "`ins't it the same as a while loop?`"
   ]
  },
  {
   "cell_type": "code",
   "execution_count": null,
   "id": "00fb81e1",
   "metadata": {},
   "outputs": [],
   "source": [
    "def user ():\n",
    "    \n",
    "    value = input(\"Please enter a value less than 5: \")\n",
    "    \n",
    "    if int(value) > 5:\n",
    "        user()\n",
    "        \n",
    "    return int(value)"
   ]
  },
  {
   "cell_type": "code",
   "execution_count": null,
   "id": "948f43bd",
   "metadata": {},
   "outputs": [],
   "source": [
    "user()"
   ]
  },
  {
   "cell_type": "markdown",
   "id": "cff37fea",
   "metadata": {},
   "source": [
    "## Business challenge: Yoga Class Management\n",
    "\n",
    "\n",
    "### Descripción de la Tarea:\n",
    "\n",
    "Imagina que estás desarrollando un programa para gestionar clases de yoga y estudiantes. Crea un programa en Python que maneje las siguientes tareas:\n",
    "\n",
    "**1. Crear Clases de Yoga:**\n",
    "\n",
    "   Escribe una función en Python llamada `create_yoga_class` que permita al usuario crear una nueva clase de yoga. La función debería almacenar información sobre la clase, como el nombre de la clase, fecha, hora y capacidad máxima. Usa un diccionario para representar una clase.\n",
    "\n",
    "**2. Registrar Estudiantes:**\n",
    "\n",
    "   Implementa una función llamada `register_student` que permita a los estudiantes registrarse para una clase de yoga específica. Asegúrate de que el programa verifique si la clase está llena antes de permitir el registro.\n",
    "\n",
    "**3. Mostrar Detalles de la Clase:**\n",
    "\n",
    "   Escribe una función llamada `display_class_details` que tome un diccionario de clase de yoga como entrada y muestre todos sus detalles, incluyendo el nombre de la clase, fecha, hora, estudiantes registrados y lugares disponibles.\n",
    "\n",
    "**4. Listar Todas las Clases:**\n",
    "\n",
    "   Crea una función llamada `list_all_classes` que muestre una lista de todas las clases de yoga disponibles con sus nombres y el número de lugares disponibles.\n",
    "\n",
    "**5. Buscar Clases:**\n",
    "\n",
    "   Implementa una función llamada `search_classes` que permita al usuario buscar clases de yoga especificando criterios como fecha, hora o nombre de la clase. Muestra una lista de clases que coincidan.\n",
    "\n",
    "**6. Eliminar Estudiantes:**\n",
    "\n",
    "   Escribe una función llamada `remove_student` que elimine a un estudiante de una clase de yoga si necesitan cancelar su registro.\n",
    "\n",
    "**7. Generar Informe de Asistencia:**\n",
    "\n",
    "   Crea una función llamada `generate_attendance_report` que genere un informe de asistencia para una clase de yoga específica. El informe debe incluir los nombres de todos los estudiantes registrados.\n",
    "\n",
    "**Instrucciones Adicionales:**\n",
    "\n",
    "- Utiliza estructuras de datos adecuadas (listas, diccionarios) para almacenar información de las clases de yoga y gestionar el registro de estudiantes.\n",
    "- Asegúrate de que las funciones incluyan docstrings apropiados, anotaciones de tipo de datos y nombres de variables claros.\n",
    "- Prueba tus funciones con datos de muestra para verificar su corrección.\n",
    "- Permite que el programa maneje múltiples clases de yoga simultáneamente.\n",
    "\n",
    "**Desafío Adicional:**\n",
    "\n",
    "Extiende el ejercicio implementando autenticación de usuario para permitir solo a instructores autorizados crear y gestionar clases.\n",
    "\n",
    "Este ejercicio ayudará a los estudiantes a practicar la creación y uso de funciones para gestionar clases de yoga y estudiantes de manera efectiva."
   ]
  },
  {
   "cell_type": "code",
   "execution_count": null,
   "id": "95c13bf2",
   "metadata": {},
   "outputs": [],
   "source": [
    "# Dictionary to store yoga classes and their details\n",
    "yoga_classes = {}\n",
    "\n",
    "\n",
    "def create_yoga_class(name, date, time, max_capacity):\n",
    "    #[your code here]\n",
    "\n",
    "\n",
    "def register_student(class_name, student_name):\n",
    "    #[your code here]\n",
    "\n",
    "\n",
    "def remove_student(class_name, student_name):\n",
    "    #[your code here]\n",
    "\n",
    "\n",
    "def generate_attendance_report(class_name):\n",
    "    #[your code here]\n",
    "\n",
    "\n",
    "def list_all_classes():\n",
    "    #[your code here]\n",
    "\n",
    "\n",
    "def search_classes(criteria):\n",
    "    #[your code here]\n",
    "\n",
    "\n",
    "# Sample usage of the functions\n",
    "print(create_yoga_class(\"Hatha Yoga\", \"2023-09-20\", \"10:00 AM\", 10))\n",
    "print(create_yoga_class(\"Vinyasa Flow\", \"2023-09-21\", \"2:00 PM\", 15))\n",
    "print(register_student(\"Hatha Yoga\", \"Alice\"))\n",
    "print(register_student(\"Hatha Yoga\", \"Bob\"))\n",
    "print(register_student(\"Vinyasa Flow\", \"Carol\"))\n",
    "print(generate_attendance_report(\"Hatha Yoga\"))\n",
    "print(remove_student(\"Hatha Yoga\", \"Alice\"))\n",
    "print(list_all_classes())\n",
    "print(search_classes(\"Vinyasa\"))"
   ]
  },
  {
   "cell_type": "markdown",
   "id": "4cb268d0",
   "metadata": {
    "lang": "en"
   },
   "source": [
    "## Summary"
   ]
  },
  {
   "cell_type": "markdown",
   "id": "f2f15921",
   "metadata": {},
   "source": [
    "- **FUNCIONES**\n",
    "    - Código que realiza acciones.\n",
    "    - Tres tipos principales:\n",
    "        - Integradas\n",
    "        - Definidas por el usuario\n",
    "        - Lambda\n",
    "            - Temporales y para tareas simples.\n",
    "            - Sintaxis similar a las comprensiones de listas.\n",
    "            - Comúnmente utilizadas en pandas y otras funciones como `sorted(iterable, key=lambda...)`.\n",
    "\n",
    "- **PARADIGMAS DE PROGRAMACIÓN**\n",
    "    - Imperativo\n",
    "    - Programación Orientada a Objetos (POO)\n",
    "    - Funcional\n",
    "\n",
    "- **PROCESO**\n",
    "    - 1. Definir una función: `def nombre():`\n",
    "    - 2. Llamar a una función: `nombre()`\n",
    "\n",
    "- **PARÁMETROS**\n",
    "    - Parámetros vs. Argumentos\n",
    "        - Parámetros: (marcador1, marcador2)\n",
    "        - Argumentos: (3, 5)\n",
    "    - `*args`: Para un número variable de argumentos.\n",
    "    - `**kwargs`: Para un número variable de argumentos de palabra clave.\n",
    "    - Parámetros Predeterminados: `param_default=30`\n",
    "\n",
    "- **RETURN**\n",
    "    - Detiene la ejecución del código después de leer/ejecutar.\n",
    "        - Tener cuidado con bucles y múltiples condiciones.\n",
    "    - Permite almacenar el resultado en una variable.\n",
    "    - Las funciones pueden devolver variables e incluso otras funciones.\n",
    "    - Diferencia entre `return` y `print`:\n",
    "        - `return`: Proporciona un valor/algo.\n",
    "        - `print`: Te da NoneType; no apto para uso posterior.\n",
    "\n",
    "- **ÁMBITO (SCOPE)**\n",
    "    - Lo que sucede en la función se queda en la función a menos que se guarde en un valor de retorno.\n",
    "    \n",
    "    ```python\n",
    "    def suma(a, b):\n",
    "        algo = a + b\n",
    "        return algo\n",
    "    \n",
    "    resultado = suma(3, 5)\n",
    "    ```\n",
    "\n",
    "- **LLAMANDO FUNCIONES**\n",
    "    - Las funciones pueden ser llamadas dentro de otras funciones.\n",
    "    - Las funciones pueden llamarse a sí mismas (funciones recursivas).\n",
    "\n",
    "- **DOCSTRINGS**\n",
    "    - Descripciones de funciones:\n",
    "        - Qué hace la función.\n",
    "        - Parámetros que acepta.\n",
    "        - Qué devuelve.\n"
   ]
  },
  {
   "cell_type": "markdown",
   "id": "a9e5057e",
   "metadata": {},
   "source": [
    "## Solutions"
   ]
  },
  {
   "cell_type": "code",
   "execution_count": null,
   "id": "670b21ca",
   "metadata": {},
   "outputs": [],
   "source": [
    "# Exercise: Paradigm Exploration\n",
    "\n",
    "# Imperative Paradigm (Procedural Programming)\n",
    "# -------------------------------------------\n",
    "numbers = [1, 2, 3, 4, 5]\n",
    "sum_result = 0\n",
    "\n",
    "for num in numbers:\n",
    "    sum_result += num\n",
    "\n",
    "print(\"Imperative Paradigm Result:\", sum_result)\n",
    "\n",
    "# Object-Oriented Paradigm\n",
    "# -------------------------------------------\n",
    "class NumberProcessor:\n",
    "    def __init__(self, numbers):\n",
    "        self.numbers = numbers\n",
    "\n",
    "    def calculate_sum(self):\n",
    "        return sum(self.numbers)\n",
    "\n",
    "# Instantiate the class and call the method\n",
    "number_processor = NumberProcessor([1, 2, 3, 4, 5])\n",
    "result_object_oriented = number_processor.calculate_sum()\n",
    "print(\"Object-Oriented Paradigm Result:\", result_object_oriented)\n",
    "\n",
    "# Functional Paradigm\n",
    "# -------------------------------------------\n",
    "from functools import reduce\n",
    "\n",
    "def calculate_sum_functional(numbers):\n",
    "    return reduce(lambda x, y: x + y, numbers)\n",
    "\n",
    "# Call the function\n",
    "numbers = [1, 2, 3, 4, 5]\n",
    "result_functional = calculate_sum_functional(numbers)\n",
    "print(\"Functional Paradigm Result:\", result_functional)"
   ]
  },
  {
   "cell_type": "code",
   "execution_count": null,
   "id": "4ec427fb",
   "metadata": {},
   "outputs": [],
   "source": [
    "# Exercise: Sales Report Generator\n",
    "from typing import List, Tuple\n",
    "\n",
    "def generate_sales_report(store_name: str, date: str, *sales_data: Tuple[str, float, int], **kwargs) -> str:\n",
    "    \"\"\"\n",
    "    Generates a sales report based on store sales data.\n",
    "\n",
    "    Args:\n",
    "        store_name (str): The name of the retail store.\n",
    "        date (str): The date for the sales report.\n",
    "        *sales_data (Tuple[str, float, int]): Variable number of sales data tuples.\n",
    "            Each tuple contains (Item name, Unit price, Quantity sold).\n",
    "        **kwargs: Optional keyword arguments.\n",
    "            - include_tax (bool, default False): If True, calculate total sales with tax.\n",
    "            - currency (str, default 'USD'): The currency symbol to use in the report.\n",
    "\n",
    "    Returns:\n",
    "        str: A formatted sales report.\n",
    "\n",
    "    Example:\n",
    "        >>> generate_sales_report(\"Gadget Store\", \"2023-09-15\", (\"Phone\", 499.99, 10), (\"Tablet\", 299.99, 5), include_tax=True, currency='EUR')\n",
    "    \"\"\"\n",
    "    include_tax = kwargs.get('include_tax', False)\n",
    "    currency = kwargs.get('currency', 'USD')\n",
    "\n",
    "    total_sales = sum(price * quantity for _, price, quantity in sales_data)\n",
    "    total_items_sold = sum(quantity for _, _, quantity in sales_data)\n",
    "    average_unit_price = total_sales / total_items_sold if total_items_sold > 0 else 0.0\n",
    "\n",
    "    if include_tax:\n",
    "        total_sales_with_tax = total_sales * 1.10  # 10% sales tax\n",
    "    else:\n",
    "        total_sales_with_tax = total_sales\n",
    "\n",
    "    most_expensive_item = max(sales_data, key=lambda x: x[1])\n",
    "    least_expensive_item = min(sales_data, key=lambda x: x[1])\n",
    "\n",
    "    report = f\"Sales Report for {store_name} ({date})\\n\"\n",
    "    report += f\"---------------------------------\\n\"\n",
    "    report += f\"Total Sales Amount: {currency}{total_sales:.2f}\\n\"\n",
    "    report += f\"Average Unit Price: {currency}{average_unit_price:.2f}\\n\"\n",
    "    report += f\"Total Items Sold: {total_items_sold}\\n\"\n",
    "    report += f\"Most Expensive Item: {most_expensive_item[0]} ({currency}{most_expensive_item[1]:.2f})\\n\"\n",
    "    report += f\"Least Expensive Item: {least_expensive_item[0]} ({currency}{least_expensive_item[1]:.2f})\\n\"\n",
    "\n",
    "    if include_tax:\n",
    "        report += f\"Total Sales Amount (with 10% Tax): {currency}{total_sales_with_tax:.2f}\\n\"\n",
    "\n",
    "    return report\n",
    "\n",
    "# Example usage:\n",
    "sales_report = generate_sales_report(\"Gadget Store\", \"2023-09-15\", (\"Phone\", 499.99, 10), (\"Tablet\", 299.99, 5), include_tax=True, currency='EUR')\n",
    "print(sales_report)\n"
   ]
  },
  {
   "cell_type": "code",
   "execution_count": null,
   "id": "49cb040e",
   "metadata": {},
   "outputs": [],
   "source": [
    "# Business challenge: Yoga Class Management (Clean code)\n",
    "from typing import Dict, List, Optional\n",
    "\n",
    "# Dictionary to store yoga classes and their details\n",
    "yoga_classes: Dict[str, Dict[str, List[str]]] = {}\n",
    "\n",
    "\n",
    "def create_yoga_class(\n",
    "    name: str,\n",
    "    date: str,\n",
    "    time: str,\n",
    "    max_capacity: int\n",
    ") -> str:\n",
    "    \"\"\"\n",
    "    Create a new yoga class.\n",
    "\n",
    "    Args:\n",
    "        name (str): The name of the yoga class.\n",
    "        date (str): The date of the class (e.g., \"2023-09-20\").\n",
    "        time (str): The time of the class (e.g., \"10:00 AM\").\n",
    "        max_capacity (int): The maximum capacity of the class.\n",
    "\n",
    "    Returns:\n",
    "        str: A message indicating the result of the operation.\n",
    "    \"\"\"\n",
    "    if name not in yoga_classes:\n",
    "        yoga_classes[name] = {\n",
    "            \"date\": date,\n",
    "            \"time\": time,\n",
    "            \"max_capacity\": max_capacity,\n",
    "            \"students\": []\n",
    "        }\n",
    "        return f\"{name} class has been created.\"\n",
    "    else:\n",
    "        return f\"A class with the name {name} already exists.\"\n",
    "\n",
    "\n",
    "def register_student(\n",
    "    class_name: str,\n",
    "    student_name: str\n",
    ") -> str:\n",
    "    \"\"\"\n",
    "    Register a student for a yoga class.\n",
    "\n",
    "    Args:\n",
    "        class_name (str): The name of the yoga class.\n",
    "        student_name (str): The name of the student.\n",
    "\n",
    "    Returns:\n",
    "        str: A message indicating the result of the registration.\n",
    "    \"\"\"\n",
    "    if class_name in yoga_classes:\n",
    "        yoga_class = yoga_classes[class_name]\n",
    "        if len(yoga_class[\"students\"]) < yoga_class[\"max_capacity\"]:\n",
    "            yoga_class[\"students\"].append(student_name)\n",
    "            return f\"{student_name} has been registered for {class_name}.\"\n",
    "        else:\n",
    "            return f\"Sorry, {class_name} is full. Cannot register {student_name}.\"\n",
    "    else:\n",
    "        return f\"No class found with the name {class_name}.\"\n",
    "\n",
    "\n",
    "def remove_student(\n",
    "    class_name: str,\n",
    "    student_name: str\n",
    ") -> str:\n",
    "    \"\"\"\n",
    "    Remove a student from a yoga class.\n",
    "\n",
    "    Args:\n",
    "        class_name (str): The name of the yoga class.\n",
    "        student_name (str): The name of the student.\n",
    "\n",
    "    Returns:\n",
    "        str: A message indicating the result of the removal.\n",
    "    \"\"\"\n",
    "    if class_name in yoga_classes:\n",
    "        yoga_class = yoga_classes[class_name]\n",
    "        if student_name in yoga_class[\"students\"]:\n",
    "            yoga_class[\"students\"].remove(student_name)\n",
    "            return f\"{student_name} has been removed from {class_name}.\"\n",
    "        else:\n",
    "            return f\"{student_name} is not registered for {class_name}.\"\n",
    "    else:\n",
    "        return f\"No class found with the name {class_name}.\"\n",
    "\n",
    "\n",
    "def generate_attendance_report(\n",
    "    class_name: str\n",
    ") -> str:\n",
    "    \"\"\"\n",
    "    Generate an attendance report for a yoga class.\n",
    "\n",
    "    Args:\n",
    "        class_name (str): The name of the yoga class.\n",
    "\n",
    "    Returns:\n",
    "        str: The attendance report.\n",
    "    \"\"\"\n",
    "    if class_name in yoga_classes:\n",
    "        yoga_class = yoga_classes[class_name]\n",
    "        return f\"Attendance report for {class_name}:\\n{', '.join(yoga_class['students'])}\"\n",
    "    else:\n",
    "        return f\"No class found with the name {class_name}.\"\n",
    "\n",
    "\n",
    "def list_all_classes() -> str:\n",
    "    \"\"\"\n",
    "    List all available yoga classes.\n",
    "\n",
    "    Returns:\n",
    "        str: A list of all available classes.\n",
    "    \"\"\"\n",
    "    return f\"All Available Classes: {', '.join(yoga_classes.keys())}\"\n",
    "\n",
    "\n",
    "def search_classes(\n",
    "    criteria: str\n",
    ") -> str:\n",
    "    \"\"\"\n",
    "    Search for yoga classes based on a search criteria.\n",
    "\n",
    "    Args:\n",
    "        criteria (str): The search criteria.\n",
    "\n",
    "    Returns:\n",
    "        str: A list of matching classes.\n",
    "    \"\"\"\n",
    "    matching_classes = [class_name for class_name, details in yoga_classes.items()\n",
    "                        if criteria in class_name or criteria in details[\"date\"] or criteria in details[\"time\"]]\n",
    "    if matching_classes:\n",
    "        return f\"Matching Classes: {', '.join(matching_classes)}\"\n",
    "    else:\n",
    "        return f\"No classes found matching the criteria '{criteria}'.\"\n",
    "\n",
    "\n",
    "# Sample usage of the functions\n",
    "print(create_yoga_class(\"Hatha Yoga\", \"2023-09-20\", \"10:00 AM\", 10))\n",
    "print(create_yoga_class(\"Vinyasa Flow\", \"2023-09-21\", \"2:00 PM\", 15))\n",
    "\n",
    "print(register_student(\"Hatha Yoga\", \"Alice\"))\n",
    "print(register_student(\"Hatha Yoga\", \"Bob\"))\n",
    "print(register_student(\"Vinyasa Flow\", \"Carol\"))\n",
    "\n",
    "print(generate_attendance_report(\"Hatha Yoga\"))\n",
    "\n",
    "print(remove_student(\"Hatha Yoga\", \"Alice\"))\n",
    "\n",
    "print(list_all_classes())\n",
    "\n",
    "print(search_classes(\"Vinyasa\"))"
   ]
  },
  {
   "cell_type": "code",
   "execution_count": null,
   "id": "7d62dfb4",
   "metadata": {},
   "outputs": [],
   "source": [
    "# Business challenge: Yoga Class Management\n",
    "# Dictionary to store yoga classes and their details\n",
    "yoga_classes = {}\n",
    "\n",
    "\n",
    "def create_yoga_class(name, date, time, max_capacity):\n",
    "    if name not in yoga_classes:\n",
    "        yoga_classes[name] = {\n",
    "            \"date\": date,\n",
    "            \"time\": time,\n",
    "            \"max_capacity\": max_capacity,\n",
    "            \"students\": []\n",
    "        }\n",
    "        return f\"{name} class has been created.\"\n",
    "    else:\n",
    "        return f\"A class with the name {name} already exists.\"\n",
    "\n",
    "\n",
    "def register_student(class_name, student_name):\n",
    "    if class_name in yoga_classes:\n",
    "        yoga_class = yoga_classes[class_name]\n",
    "        if len(yoga_class[\"students\"]) < yoga_class[\"max_capacity\"]:\n",
    "            yoga_class[\"students\"].append(student_name)\n",
    "            return f\"{student_name} has been registered for {class_name}.\"\n",
    "        else:\n",
    "            return f\"Sorry, {class_name} is full. Cannot register {student_name}.\"\n",
    "    else:\n",
    "        return f\"No class found with the name {class_name}.\"\n",
    "\n",
    "\n",
    "def remove_student(class_name, student_name):\n",
    "    if class_name in yoga_classes:\n",
    "        yoga_class = yoga_classes[class_name]\n",
    "        if student_name in yoga_class[\"students\"]:\n",
    "            yoga_class[\"students\"].remove(student_name)\n",
    "            return f\"{student_name} has been removed from {class_name}.\"\n",
    "        else:\n",
    "            return f\"{student_name} is not registered for {class_name}.\"\n",
    "    else:\n",
    "        return f\"No class found with the name {class_name}.\"\n",
    "\n",
    "\n",
    "def generate_attendance_report(class_name):\n",
    "    if class_name in yoga_classes:\n",
    "        yoga_class = yoga_classes[class_name]\n",
    "        return f\"Attendance report for {class_name}:\\n{', '.join(yoga_class['students'])}\"\n",
    "    else:\n",
    "        return f\"No class found with the name {class_name}.\"\n",
    "\n",
    "\n",
    "def list_all_classes():\n",
    "    return f\"All Available Classes: {', '.join(yoga_classes.keys())}\"\n",
    "\n",
    "\n",
    "def search_classes(criteria):\n",
    "    matching_classes = [class_name for class_name, details in yoga_classes.items()\n",
    "                        if criteria in class_name or criteria in details[\"date\"] or criteria in details[\"time\"]]\n",
    "    if matching_classes:\n",
    "        return f\"Matching Classes: {', '.join(matching_classes)}\"\n",
    "    else:\n",
    "        return f\"No classes found matching the criteria '{criteria}'.\"\n",
    "\n",
    "\n",
    "# Sample usage of the functions\n",
    "print(create_yoga_class(\"Hatha Yoga\", \"2023-09-20\", \"10:00 AM\", 10))\n",
    "print(create_yoga_class(\"Vinyasa Flow\", \"2023-09-21\", \"2:00 PM\", 15))\n",
    "\n",
    "print(register_student(\"Hatha Yoga\", \"Alice\"))\n",
    "print(register_student(\"Hatha Yoga\", \"Bob\"))\n",
    "print(register_student(\"Vinyasa Flow\", \"Carol\"))\n",
    "\n",
    "print(generate_attendance_report(\"Hatha Yoga\"))\n",
    "\n",
    "print(remove_student(\"Hatha Yoga\", \"Alice\"))\n",
    "\n",
    "print(list_all_classes())\n",
    "\n",
    "print(search_classes(\"Vinyasa\"))\n"
   ]
  }
 ],
 "metadata": {
  "kernelspec": {
   "display_name": "Python 3 (ipykernel)",
   "language": "python",
   "name": "python3"
  },
  "language_info": {
   "codemirror_mode": {
    "name": "ipython",
    "version": 3
   },
   "file_extension": ".py",
   "mimetype": "text/x-python",
   "name": "python",
   "nbconvert_exporter": "python",
   "pygments_lexer": "ipython3",
   "version": "3.9.13"
  },
  "nbTranslate": {
   "displayLangs": [
    "en",
    "es"
   ],
   "hotkey": "alt-a",
   "langInMainMenu": true,
   "sourceLang": "es",
   "targetLang": "en",
   "useGoogleTranslate": true
  },
  "toc": {
   "base_numbering": 1,
   "nav_menu": {},
   "number_sections": true,
   "sideBar": true,
   "skip_h1_title": true,
   "title_cell": "Table of Contents",
   "title_sidebar": "Contents",
   "toc_cell": true,
   "toc_position": {
    "height": "calc(100% - 180px)",
    "left": "10px",
    "top": "150px",
    "width": "288px"
   },
   "toc_section_display": true,
   "toc_window_display": false
  }
 },
 "nbformat": 4,
 "nbformat_minor": 5
}
