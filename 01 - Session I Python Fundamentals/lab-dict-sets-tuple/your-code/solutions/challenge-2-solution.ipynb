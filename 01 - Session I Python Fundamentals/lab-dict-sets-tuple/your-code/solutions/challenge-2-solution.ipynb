{
 "cells": [
  {
   "cell_type": "markdown",
   "metadata": {},
   "source": [
    "## Challenge 2: Sets\n",
    "\n",
    "There are a lot to learn about Python Sets and the information presented in the lesson is limited due to its length. To learn Python Sets in depth you are strongly encouraged to review the W3Schools tutorial on [Python Sets Examples and Methods](https://www.w3schools.com/python/python_sets.asp) before you work on this lab. Some difficult questions in this lab have their solutions in the W3Schools tutorial.\n",
    "\n",
    "#### First, import the Python `random` library."
   ]
  },
  {
   "cell_type": "code",
   "execution_count": 1,
   "metadata": {},
   "outputs": [],
   "source": [
    "import random"
   ]
  },
  {
   "cell_type": "markdown",
   "metadata": {},
   "source": [
    "#### In the cell below, create a list named `sample_list_1` with 80 random values. \n",
    "\n",
    "Requirements:\n",
    "\n",
    "* Each value is an integer falling between 0 and 100.\n",
    "* Each value in the list is unique.\n",
    "\n",
    "Print `sample_list_1` to review its values\n",
    "\n",
    "*Hint: use `random.sample` ([reference](https://docs.python.org/3/library/random.html#random.sample)).*"
   ]
  },
  {
   "cell_type": "code",
   "execution_count": 2,
   "metadata": {},
   "outputs": [
    {
     "name": "stdout",
     "output_type": "stream",
     "text": [
      "[99, 32, 0, 40, 89, 83, 49, 55, 35, 41, 12, 52, 17, 1, 97, 79, 51, 75, 5, 82, 18, 10, 16, 25, 86, 73, 6, 46, 60, 90, 11, 36, 4, 20, 26, 9, 39, 31, 45, 64, 42, 24, 57, 61, 3, 66, 43, 63, 53, 98, 72, 7, 30, 77, 74, 59, 48, 47, 44, 67, 85, 34, 37, 28, 2, 21, 58, 22, 8, 92, 19, 56, 71, 69, 84, 91, 65, 15, 78, 70]\n"
     ]
    }
   ],
   "source": [
    "# Your code here\n",
    "sample_list_1 = random.sample(range(100), k=80)\n",
    "print(sample_list_1)"
   ]
  },
  {
   "cell_type": "markdown",
   "metadata": {},
   "source": [
    "#### Convert `sample_list_1` to a set called `set1`. Print the length of the set. Is its length still 80?"
   ]
  },
  {
   "cell_type": "code",
   "execution_count": 3,
   "metadata": {},
   "outputs": [
    {
     "name": "stdout",
     "output_type": "stream",
     "text": [
      "80\n"
     ]
    }
   ],
   "source": [
    "# Gets the count of the unique values \n",
    "set1 = set(sample_list_1)\n",
    "print(len(set1))"
   ]
  },
  {
   "cell_type": "markdown",
   "metadata": {},
   "source": [
    "#### Create another list named `sample_list_2` with 80 random values.\n",
    "\n",
    "Requirements:\n",
    "\n",
    "* Each value is an integer falling between 0 and 100.\n",
    "* The values in the list don't have to be unique.\n",
    "\n",
    "*Hint: Use a FOR loop.*"
   ]
  },
  {
   "cell_type": "code",
   "execution_count": 5,
   "metadata": {},
   "outputs": [
    {
     "name": "stdout",
     "output_type": "stream",
     "text": [
      "[100, 19, 2, 12, 90, 46, 88, 48, 91, 85, 93, 87, 80, 24, 27, 85, 68, 21, 43, 7, 83, 8, 26, 9, 75, 48, 19, 8, 100, 54, 46, 84, 95, 94, 48, 65, 38, 16, 12, 43, 60, 55, 2, 16, 76, 12, 95, 93, 42, 60, 38, 65, 22, 91, 70, 87, 81, 1, 82, 88, 15, 69, 52, 18, 29, 0, 33, 18, 49, 23, 62, 11, 80, 25, 21, 58, 5, 100, 61, 32]\n"
     ]
    }
   ],
   "source": [
    "# list comprehension\n",
    "sample_list_2 = [random.randint(0,100) for i in range(80)]\n",
    "print(sample_list_2)"
   ]
  },
  {
   "cell_type": "code",
   "execution_count": 28,
   "metadata": {},
   "outputs": [
    {
     "data": {
      "text/plain": [
       "[24,\n",
       " 33,\n",
       " 77,\n",
       " 7,\n",
       " 95,\n",
       " 35,\n",
       " 37,\n",
       " 88,\n",
       " 99,\n",
       " 3,\n",
       " 76,\n",
       " 67,\n",
       " 83,\n",
       " 38,\n",
       " 66,\n",
       " 38,\n",
       " 72,\n",
       " 8,\n",
       " 25,\n",
       " 84,\n",
       " 29,\n",
       " 83,\n",
       " 94,\n",
       " 3,\n",
       " 67,\n",
       " 27,\n",
       " 48,\n",
       " 7,\n",
       " 65,\n",
       " 62,\n",
       " 95,\n",
       " 26,\n",
       " 5,\n",
       " 11,\n",
       " 12,\n",
       " 89,\n",
       " 2,\n",
       " 28,\n",
       " 32,\n",
       " 23,\n",
       " 25,\n",
       " 27,\n",
       " 34,\n",
       " 16,\n",
       " 39,\n",
       " 97,\n",
       " 12,\n",
       " 17,\n",
       " 54,\n",
       " 86,\n",
       " 71,\n",
       " 19,\n",
       " 37,\n",
       " 28,\n",
       " 94,\n",
       " 15,\n",
       " 90,\n",
       " 65,\n",
       " 96,\n",
       " 69,\n",
       " 85,\n",
       " 78,\n",
       " 38,\n",
       " 73,\n",
       " 37,\n",
       " 85,\n",
       " 6,\n",
       " 50,\n",
       " 14,\n",
       " 41,\n",
       " 70,\n",
       " 98,\n",
       " 97,\n",
       " 92,\n",
       " 37,\n",
       " 100,\n",
       " 46,\n",
       " 96,\n",
       " 17,\n",
       " 20]"
      ]
     },
     "execution_count": 28,
     "metadata": {},
     "output_type": "execute_result"
    }
   ],
   "source": [
    "# for loop\n",
    "sample_list_2 = []\n",
    "for i in range(80):\n",
    "    sample_list_2.append(random.randint(0,100))\n",
    "sample_list_2"
   ]
  },
  {
   "cell_type": "code",
   "execution_count": 27,
   "metadata": {},
   "outputs": [
    {
     "data": {
      "text/plain": [
       "[68,\n",
       " 46,\n",
       " 82,\n",
       " 63,\n",
       " 55,\n",
       " 64,\n",
       " 61,\n",
       " 33,\n",
       " 15,\n",
       " 94,\n",
       " 78,\n",
       " 30,\n",
       " 37,\n",
       " 68,\n",
       " 39,\n",
       " 36,\n",
       " 86,\n",
       " 73,\n",
       " 63,\n",
       " 39,\n",
       " 49,\n",
       " 99,\n",
       " 71,\n",
       " 79,\n",
       " 95,\n",
       " 99,\n",
       " 32,\n",
       " 81,\n",
       " 88,\n",
       " 4,\n",
       " 1,\n",
       " 11,\n",
       " 76,\n",
       " 21,\n",
       " 83,\n",
       " 74,\n",
       " 11,\n",
       " 66,\n",
       " 97,\n",
       " 16,\n",
       " 100,\n",
       " 45,\n",
       " 28,\n",
       " 72,\n",
       " 40,\n",
       " 43,\n",
       " 76,\n",
       " 83,\n",
       " 84,\n",
       " 85,\n",
       " 65,\n",
       " 34,\n",
       " 77,\n",
       " 98,\n",
       " 11,\n",
       " 63,\n",
       " 68,\n",
       " 38,\n",
       " 86,\n",
       " 84,\n",
       " 86,\n",
       " 28,\n",
       " 84,\n",
       " 26,\n",
       " 37,\n",
       " 51,\n",
       " 43,\n",
       " 63,\n",
       " 47,\n",
       " 52,\n",
       " 77,\n",
       " 52,\n",
       " 80,\n",
       " 51,\n",
       " 7,\n",
       " 77,\n",
       " 42,\n",
       " 41,\n",
       " 40,\n",
       " 45]"
      ]
     },
     "execution_count": 27,
     "metadata": {},
     "output_type": "execute_result"
    }
   ],
   "source": [
    "# while loop\n",
    "sample_list_2 = []\n",
    "while len(sample_list_2)<80:\n",
    "    sample_list_2.append(random.randint(0,100))\n",
    "sample_list_2"
   ]
  },
  {
   "cell_type": "code",
   "execution_count": 6,
   "metadata": {},
   "outputs": [
    {
     "name": "stdout",
     "output_type": "stream",
     "text": [
      "56\n"
     ]
    }
   ],
   "source": [
    "set2 = set(sample_list_2)\n",
    "print(len(set2)) # Length is lower due to numbers not being unique in list, which are removed in set"
   ]
  },
  {
   "cell_type": "markdown",
   "metadata": {},
   "source": [
    "#### Convert `sample_list_2` to a set called `set2`. Print the length of the set. Is its length still 80?"
   ]
  },
  {
   "cell_type": "code",
   "execution_count": 7,
   "metadata": {},
   "outputs": [
    {
     "name": "stdout",
     "output_type": "stream",
     "text": [
      "56\n"
     ]
    }
   ],
   "source": [
    "# Your code here\n",
    "set2 = set(sample_list_2)\n",
    "print(len(set2))"
   ]
  },
  {
   "cell_type": "markdown",
   "metadata": {},
   "source": [
    "#### Identify the elements present in `set1` but not in `set2`. Assign the elements to a new set named `set3`."
   ]
  },
  {
   "cell_type": "code",
   "execution_count": 8,
   "metadata": {},
   "outputs": [
    {
     "name": "stdout",
     "output_type": "stream",
     "text": [
      "{3, 4, 6, 10, 17, 20, 28, 30, 31, 34, 35, 36, 37, 39, 40, 41, 44, 45, 47, 51, 53, 56, 57, 59, 63, 64, 66, 67, 71, 72, 73, 74, 77, 78, 79, 86, 89, 92, 97, 98, 99}\n"
     ]
    }
   ],
   "source": [
    "# Your code here\n",
    "set3 = []\n",
    "for i in set1:\n",
    "    if i not in set2:\n",
    "        set3.append(i)\n",
    "set3 = set(set3)\n",
    "print(set3)"
   ]
  },
  {
   "cell_type": "markdown",
   "metadata": {},
   "source": [
    "#### Identify the elements present in `set2` but not in `set1`. Assign the elements to a new set named `set4`."
   ]
  },
  {
   "cell_type": "code",
   "execution_count": 9,
   "metadata": {},
   "outputs": [
    {
     "name": "stdout",
     "output_type": "stream",
     "text": [
      "{33, 68, 100, 38, 88, 76, 80, 81, 93, 54, 23, 87, 94, 27, 29, 62, 95}\n"
     ]
    }
   ],
   "source": [
    "# Your code here\n",
    "set4 = []\n",
    "for i in set2:\n",
    "    if i not in set1:\n",
    "        set4.append(i)\n",
    "set4 = set(set4)\n",
    "print(set4)"
   ]
  },
  {
   "cell_type": "markdown",
   "metadata": {},
   "source": [
    "#### Now Identify the elements shared between `set1` and `set2`. Assign the elements to a new set named `set5`."
   ]
  },
  {
   "cell_type": "code",
   "execution_count": 10,
   "metadata": {},
   "outputs": [
    {
     "name": "stdout",
     "output_type": "stream",
     "text": [
      "{0, 1, 2, 5, 7, 8, 9, 11, 12, 15, 16, 18, 19, 21, 22, 24, 25, 26, 32, 42, 43, 46, 48, 49, 52, 55, 58, 60, 61, 65, 69, 70, 75, 82, 83, 84, 85, 90, 91}\n"
     ]
    }
   ],
   "source": [
    "# Your code here\n",
    "set5 = set1.intersection(set2)\n",
    "print(set5)"
   ]
  },
  {
   "cell_type": "markdown",
   "metadata": {},
   "source": [
    "#### What is the relationship among the following values:\n",
    "\n",
    "* len(set1)\n",
    "* len(set2)\n",
    "* len(set3)\n",
    "* len(set4)\n",
    "* len(set5)\n",
    "\n",
    "Use a math formular to represent that relationship. Test your formular with Python code."
   ]
  },
  {
   "cell_type": "code",
   "execution_count": 11,
   "metadata": {},
   "outputs": [
    {
     "name": "stdout",
     "output_type": "stream",
     "text": [
      "80\n",
      "56\n",
      "41\n",
      "17\n",
      "39\n"
     ]
    }
   ],
   "source": [
    "# Your code here\n",
    "print(len(set1))\n",
    "print(len(set2))\n",
    "print(len(set3))\n",
    "print(len(set4))\n",
    "print(len(set5))"
   ]
  },
  {
   "cell_type": "code",
   "execution_count": 19,
   "metadata": {},
   "outputs": [
    {
     "data": {
      "text/plain": [
       "True"
      ]
     },
     "execution_count": 19,
     "metadata": {},
     "output_type": "execute_result"
    }
   ],
   "source": [
    "len(set2) == ( len(set4) + len(set5))\n"
   ]
  },
  {
   "cell_type": "code",
   "execution_count": 20,
   "metadata": {},
   "outputs": [
    {
     "data": {
      "text/plain": [
       "False"
      ]
     },
     "execution_count": 20,
     "metadata": {},
     "output_type": "execute_result"
    }
   ],
   "source": [
    "len(set1) == ( len(set3) + len(set5) )"
   ]
  },
  {
   "cell_type": "markdown",
   "metadata": {},
   "source": [
    "#### Create an empty set called `set6`."
   ]
  },
  {
   "cell_type": "code",
   "execution_count": 12,
   "metadata": {},
   "outputs": [],
   "source": [
    "# Your code here\n",
    "set6 = set()"
   ]
  },
  {
   "cell_type": "markdown",
   "metadata": {},
   "source": [
    "#### Add `set3` and `set5` to `set6` using the Python Set `update` method."
   ]
  },
  {
   "cell_type": "code",
   "execution_count": 13,
   "metadata": {},
   "outputs": [
    {
     "name": "stdout",
     "output_type": "stream",
     "text": [
      "{0, 1, 2, 3, 4, 5, 6, 7, 8, 9, 10, 11, 12, 15, 16, 17, 18, 19, 20, 21, 22, 24, 25, 26, 28, 30, 31, 32, 34, 35, 36, 37, 39, 40, 41, 42, 43, 44, 45, 46, 47, 48, 49, 51, 52, 53, 55, 56, 57, 58, 59, 60, 61, 63, 64, 65, 66, 67, 69, 70, 71, 72, 73, 74, 75, 77, 78, 79, 82, 83, 84, 85, 86, 89, 90, 91, 92, 97, 98, 99}\n"
     ]
    }
   ],
   "source": [
    "# Your code here\n",
    "set6.update(set3,set5)\n",
    "print(set6)"
   ]
  },
  {
   "cell_type": "markdown",
   "metadata": {},
   "source": [
    "#### Check if `set1` and `set6` are equal."
   ]
  },
  {
   "cell_type": "code",
   "execution_count": 14,
   "metadata": {},
   "outputs": [
    {
     "name": "stdout",
     "output_type": "stream",
     "text": [
      "True\n"
     ]
    }
   ],
   "source": [
    "# Your code here\n",
    "print(set1 == set6)"
   ]
  },
  {
   "cell_type": "markdown",
   "metadata": {},
   "source": [
    "#### Check if `set1` contains `set2` using the Python Set `issubset` method. Then check if `set1` contains `set3`.*"
   ]
  },
  {
   "cell_type": "code",
   "execution_count": 15,
   "metadata": {},
   "outputs": [
    {
     "name": "stdout",
     "output_type": "stream",
     "text": [
      "False\n",
      "True\n"
     ]
    }
   ],
   "source": [
    "# Your code here\n",
    "print(set2.issubset(set1))\n",
    "print(set3.issubset(set1))"
   ]
  },
  {
   "cell_type": "markdown",
   "metadata": {},
   "source": [
    "#### Using the Python Set `union` method, aggregate `set3`, `set4`, and `set5`. Then aggregate `set1` and `set2`. \n",
    "\n",
    "#### Check if the aggregated values are equal."
   ]
  },
  {
   "cell_type": "code",
   "execution_count": 16,
   "metadata": {},
   "outputs": [
    {
     "name": "stdout",
     "output_type": "stream",
     "text": [
      "True\n"
     ]
    }
   ],
   "source": [
    "# Your code here\n",
    "set3_4_5 = set3.union(set4, set5)\n",
    "set1_2 = set1.union(set2)\n",
    "print(set3_4_5 == set1_2)"
   ]
  },
  {
   "cell_type": "markdown",
   "metadata": {},
   "source": [
    "#### Using the `pop` method, remove the first element from `set1`."
   ]
  },
  {
   "cell_type": "code",
   "execution_count": 32,
   "metadata": {},
   "outputs": [
    {
     "name": "stdout",
     "output_type": "stream",
     "text": [
      "{2, 3, 4, 5, 6, 7, 8, 9, 10, 11, 12, 15, 16, 17, 18, 19, 20, 21, 22, 24, 25, 26, 28, 30, 31, 32, 34, 35, 36, 37, 39, 40, 41, 42, 43, 44, 45, 46, 47, 48, 49, 51, 52, 53, 55, 56, 57, 58, 59, 60, 61, 63, 64, 65, 66, 67, 69, 70, 71, 72, 73, 74, 75, 77, 78, 79, 82, 83, 84, 85, 86, 89, 90, 91, 92, 97, 98, 99}\n"
     ]
    }
   ],
   "source": [
    "# The pop method removes an element randomly, thus we could convert it to list to pop the first element:\n",
    "\n",
    "set1_list = list(set1)\n",
    "set1_list.pop(0)\n",
    "set1_list_pop = set(set1_list)  # And we convert it back to a set\n",
    "print(set1_list_pop)"
   ]
  },
  {
   "cell_type": "code",
   "execution_count": 22,
   "metadata": {},
   "outputs": [
    {
     "data": {
      "text/plain": [
       "1"
      ]
     },
     "execution_count": 22,
     "metadata": {},
     "output_type": "execute_result"
    }
   ],
   "source": [
    "set1_list.pop(0)\n"
   ]
  },
  {
   "cell_type": "code",
   "execution_count": 23,
   "metadata": {},
   "outputs": [
    {
     "name": "stdout",
     "output_type": "stream",
     "text": [
      "{2, 3, 4, 5, 6, 7, 8, 9, 10, 11, 12, 15, 16, 17, 18, 19, 20, 21, 22, 24, 25, 26, 28, 30, 31, 32, 34, 35, 36, 37, 39, 40, 41, 42, 43, 44, 45, 46, 47, 48, 49, 51, 52, 53, 55, 56, 57, 58, 59, 60, 61, 63, 64, 65, 66, 67, 69, 70, 71, 72, 73, 74, 75, 77, 78, 79, 82, 83, 84, 85, 86, 89, 90, 91, 92, 97, 98, 99}\n"
     ]
    }
   ],
   "source": [
    "set1_list_pop = set(set1_list)  # And we convert it back to a set\n",
    "print(set1_list_pop)"
   ]
  },
  {
   "cell_type": "markdown",
   "metadata": {},
   "source": [
    "#### Remove every element in the following list from `set1` if they are present in the set. Print the remaining elements.\n",
    "\n",
    "```\n",
    "list_to_remove = [1, 9, 11, 19, 21, 29, 31, 39, 41, 49, 51, 59, 61, 69, 71, 79, 81, 89, 91, 99]\n",
    "```"
   ]
  },
  {
   "cell_type": "code",
   "execution_count": 18,
   "metadata": {},
   "outputs": [
    {
     "name": "stdout",
     "output_type": "stream",
     "text": [
      "[2, 3, 4, 5, 6, 7, 8, 10, 12, 15, 16, 17, 18, 20, 22, 24, 25, 26, 28, 30, 32, 34, 35, 36, 37, 40, 42, 43, 44, 45, 46, 47, 48, 52, 53, 55, 56, 57, 58, 60, 63, 64, 65, 66, 67, 70, 72, 73, 74, 75, 77, 78, 82, 83, 84, 85, 86, 90, 92, 97, 98]\n"
     ]
    }
   ],
   "source": [
    "# Your code here\n",
    "remaining_elem = []\n",
    "list_to_remove = [1, 9, 11, 19, 21, 29, 31, 39, 41, 49, 51, 59, 61, 69, 71, 79, 81, 89, 91, 99]\n",
    "for i in set1:\n",
    "    if i not in list_to_remove:\n",
    "        remaining_elem.append(i)\n",
    "print(remaining_elem)"
   ]
  },
  {
   "cell_type": "code",
   "execution_count": null,
   "metadata": {},
   "outputs": [],
   "source": [
    "list_to_remove = [1, 9, 11, 19, 21, 29, 31, 39, 41, 49, 51, 59, 61, 69, 71, 79, 81, 89, 91, 99]\n",
    "set(list_to_remove)\n",
    "\n",
    "print(set1.difference(list_to_remove))"
   ]
  }
 ],
 "metadata": {
  "kernelspec": {
   "display_name": "Python 3.9.1 64-bit",
   "language": "python",
   "name": "python3"
  },
  "language_info": {
   "codemirror_mode": {
    "name": "ipython",
    "version": 3
   },
   "file_extension": ".py",
   "mimetype": "text/x-python",
   "name": "python",
   "nbconvert_exporter": "python",
   "pygments_lexer": "ipython3",
   "version": "3.9.1"
  },
  "nbTranslate": {
   "displayLangs": [
    "en",
    "es"
   ],
   "hotkey": "alt-a",
   "langInMainMenu": true,
   "sourceLang": "es",
   "targetLang": "en",
   "useGoogleTranslate": true
  },
  "toc": {
   "base_numbering": 1,
   "nav_menu": {},
   "number_sections": true,
   "sideBar": true,
   "skip_h1_title": false,
   "title_cell": "Table of Contents",
   "title_sidebar": "Contents",
   "toc_cell": false,
   "toc_position": {},
   "toc_section_display": true,
   "toc_window_display": false
  },
  "vscode": {
   "interpreter": {
    "hash": "aee8b7b246df8f9039afb4144a1f6fd8d2ca17a180786b69acc140d282b71a49"
   }
  }
 },
 "nbformat": 4,
 "nbformat_minor": 2
}
