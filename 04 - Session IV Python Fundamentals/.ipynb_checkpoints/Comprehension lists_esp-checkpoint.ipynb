{
 "cells": [
  {
   "cell_type": "markdown",
   "id": "ambient-dodge",
   "metadata": {},
   "source": [
    "# List Comprehensions\n",
    "\n",
    "![elgif](https://media.giphy.com/media/8vZY0QZZjJZqmfResk/giphy.gif)\n",
    "\n",
    "## Pero, ¿qué es esto?\n",
    "\n",
    "Las comprensiones de lista son como varitas mágicas de la programación en Python, permitiéndonos crear y transformar listas en un abrir y cerrar de ojos. 🪄 Imagina tomar una lista, darle un agite y, voilà, aparece una lista completamente nueva, lista para deslumbrarte con su contenido.\n",
    "\n",
    "Estas concisas líneas son una herramienta poderosa para construir listas basadas en listas existentes, todo mientras mantienes tu código ordenado y conciso. No más bucles largos y líneas repetitivas - las Comprensiones de Lista hacen el trabajo pesado por ti.\n",
    "\n",
    "Así que, arremanguémonos y sumerjámonos en el mundo encantador de las Comprensiones de Lista. 🚀 ¡Prepárate para desbloquear nuevos niveles de elegancia y eficiencia en la codificación! 💻✨\n",
    "\n",
    "**Lo que sabemos ahora:**"
   ]
  },
  {
   "cell_type": "code",
   "execution_count": null,
   "id": "4a5fbde9",
   "metadata": {},
   "outputs": [],
   "source": [
    "# Definir una lista de palabras\n",
    "list_of_words = [\"Barcelona\", \"Madrid\", \"Girona\", \"Murcia\"]\n",
    "\n",
    "# Crear una lista vacía para almacenar las versiones en mayúsculas de las palabras\n",
    "uppercase_cities = []\n",
    "\n",
    "# Recorrer cada palabra en list_of_words\n",
    "for word in list_of_words:\n",
    "    # Convertir la palabra a mayúsculas usando el método upper() y añadirla a la nueva lista\n",
    "    uppercase_cities.append(word.upper())\n",
    "\n",
    "# Mostrar la lista de ciudades en mayúsculas\n",
    "uppercase_cities"
   ]
  },
  {
   "cell_type": "markdown",
   "id": "4d3acae1",
   "metadata": {},
   "source": [
    "¿Y si lo podemos simplificar?"
   ]
  },
  {
   "cell_type": "code",
   "execution_count": null,
   "id": "02c37a8f",
   "metadata": {},
   "outputs": [],
   "source": [
    "# Definir una lista de palabras\n",
    "list_of_words = [\"Barcelona\", \"Madrid\", \"Girona\", \"Murcia\"]\n",
    "\n",
    "# Crear una lista vacía para almacenar las versiones en mayúsculas de las palabras\n",
    "uppercase_cities = [i.upper() for i in list_of_words]\n",
    "\n",
    "# Mostrar la lista de ciudades en mayúsculas\n",
    "uppercase_cities"
   ]
  },
  {
   "cell_type": "markdown",
   "id": "012339ec",
   "metadata": {
    "lang": "en"
   },
   "source": [
    "![](https://media.tenor.com/Oc4nf8N08jIAAAAC/mind-blow-galaxy.gif)\n",
    "\n",
    "Vale, pero ¿cuál es la magia detrás de esto?\n",
    "\n",
    "![imagen_compr](https://stsewd.dev/charla-comprension-de-listas/img/listComprehensions.gif)\n",
    "\n",
    "Hagamos un ejemplo más **picante**:"
   ]
  },
  {
   "cell_type": "code",
   "execution_count": null,
   "id": "c9ff4031",
   "metadata": {},
   "outputs": [],
   "source": [
    "# Definir una lista de palabras\n",
    "list_of_words = [\"Barcelona\", \"Madrid\", \"Girona\", \"Murcia\"]\n",
    "\n",
    "# Crear una lista vacía para almacenar palabras de más de 6 caracteres\n",
    "new_list = []\n",
    "\n",
    "# Recorrer cada palabra en list_of_words\n",
    "for word in list_of_words:\n",
    "    # Verificar si la longitud de la palabra es mayor que 6\n",
    "    if len(word) > 6:\n",
    "        # Si se cumple la condición, añadir la palabra a new_list\n",
    "        new_list.append(word)\n",
    "\n",
    "# Mostrar new_list que contiene palabras de más de 6 caracteres\n",
    "new_list"
   ]
  },
  {
   "cell_type": "markdown",
   "id": "fe0e1e77",
   "metadata": {},
   "source": [
    "de nuevo, podemos simplificarlo:"
   ]
  },
  {
   "cell_type": "code",
   "execution_count": null,
   "id": "6c8dc69f",
   "metadata": {},
   "outputs": [],
   "source": [
    "# Definir una lista de palabras\n",
    "list_of_words = [\"Barcelona\", \"Madrid\", \"Girona\", \"Murcia\"]\n",
    "\n",
    "# Alucinante:\n",
    "long_cities = [i for i in list_of_words if len(i) > 6]\n",
    "\n",
    "# Mostrar las ciudades largas\n",
    "long_cities"
   ]
  },
  {
   "cell_type": "markdown",
   "id": "aa4b9751",
   "metadata": {
    "lang": "en"
   },
   "source": [
    "## Easy challenge 🤔\n",
    "We want a list containing the squares of the numbers 1 to 10."
   ]
  },
  {
   "cell_type": "code",
   "execution_count": null,
   "id": "281ba562",
   "metadata": {},
   "outputs": [],
   "source": [
    "# we compute square as i**2"
   ]
  },
  {
   "cell_type": "markdown",
   "id": "12b0ab16",
   "metadata": {},
   "source": [
    "### For loop"
   ]
  },
  {
   "cell_type": "code",
   "execution_count": null,
   "id": "de07f372",
   "metadata": {},
   "outputs": [],
   "source": []
  },
  {
   "cell_type": "markdown",
   "id": "e8ec7ee4",
   "metadata": {},
   "source": [
    "### Comprehension list"
   ]
  },
  {
   "cell_type": "code",
   "execution_count": null,
   "id": "2efdf34e",
   "metadata": {},
   "outputs": [],
   "source": []
  },
  {
   "cell_type": "markdown",
   "id": "04427900",
   "metadata": {
    "lang": "en"
   },
   "source": [
    "## Easy challenge 🤔\n",
    "Crear una nueva lista, sustituyendo las \"e\" por \"a\" en cada palabra de la lista original `words`"
   ]
  },
  {
   "cell_type": "code",
   "execution_count": null,
   "id": "cee227e9",
   "metadata": {},
   "outputs": [],
   "source": [
    "list_of_words = [\"Barcelona\", \"Madrid\", \"Gerona\", \"Murcia\"]"
   ]
  },
  {
   "cell_type": "markdown",
   "id": "2c1733cd",
   "metadata": {},
   "source": [
    "### For loop"
   ]
  },
  {
   "cell_type": "code",
   "execution_count": null,
   "id": "649b9114",
   "metadata": {},
   "outputs": [],
   "source": []
  },
  {
   "cell_type": "markdown",
   "id": "998fd911",
   "metadata": {},
   "source": [
    "### Comprehension list"
   ]
  },
  {
   "cell_type": "code",
   "execution_count": null,
   "id": "30c4a62a",
   "metadata": {},
   "outputs": [],
   "source": []
  },
  {
   "cell_type": "markdown",
   "id": "69146175",
   "metadata": {
    "lang": "en"
   },
   "source": [
    "## Condiciones (ponemos IF en la comprensión)"
   ]
  },
  {
   "cell_type": "markdown",
   "id": "worthy-major",
   "metadata": {},
   "source": [
    "<img width=600 src=\"https://www.mrdbourke.com/content/images/2019/09/python-list-comprehension-article.png\">"
   ]
  },
  {
   "cell_type": "markdown",
   "id": "3a362f88",
   "metadata": {
    "lang": "en"
   },
   "source": [
    "## If / Else en comprensión\n",
    "\n",
    "Las comprensiones de lista también pueden incluir declaraciones condicionales con una estructura `if-else`. Esto te permite aplicar diferentes transformaciones o filtros a los elementos basados en condiciones específicas. En esta sección, nos adentraremos en el mundo de las comprensiones de lista condicionales y veremos cómo añaden aún más flexibilidad a tu código Python.\n",
    "\n",
    "**Lo que sabemos:**"
   ]
  },
  {
   "cell_type": "code",
   "execution_count": null,
   "id": "334e2c1a",
   "metadata": {},
   "outputs": [],
   "source": [
    "# Lista original de nombres de ciudades\n",
    "list_of_words = [\"Barcelona\", \"Madrid\", \"Girona\", \"Murcia\"]\n",
    "\n",
    "# Inicializar una lista vacía para almacenar nombres de ciudades modificados\n",
    "new_list = []\n",
    "\n",
    "# Iterar a través de cada nombre de ciudad en la lista original\n",
    "for i in list_of_words:\n",
    "    # Verificar si la longitud del nombre de la ciudad es mayor a 6 caracteres\n",
    "    if len(i) > 6:\n",
    "        # Si es así, convertir el nombre de la ciudad a mayúsculas y añadirlo a new_list\n",
    "        new_list.append(i.upper())\n",
    "    else:\n",
    "        # Si no, convertir el nombre de la ciudad a minúsculas y añadirlo a new_list\n",
    "        new_list.append(i.lower())\n",
    "\n",
    "# new_list contiene los nombres de ciudades modificados\n",
    "new_list"
   ]
  },
  {
   "cell_type": "markdown",
   "id": "8753f8c7",
   "metadata": {},
   "source": [
    "El **mind blown**:"
   ]
  },
  {
   "cell_type": "code",
   "execution_count": null,
   "id": "0b42514e",
   "metadata": {},
   "outputs": [],
   "source": [
    "transformed_cities = [i.upper() if len(i) > 6 else i.lower() for i in list_of_words]"
   ]
  },
  {
   "cell_type": "markdown",
   "id": "c5226e41",
   "metadata": {},
   "source": [
    "En el ejemplo proporcionado, la condicional (la declaración if-else) se coloca antes del valor que debe ser incluido en la nueva lista. Esta es una estructura común para las comprensiones de lista, y sigue la sintaxis general:\n",
    "\n",
    "```python\n",
    "\n",
    "new_list = [value_if_true if condition else value_if_false for element in iterable]\n",
    "\n",
    "```\n"
   ]
  },
  {
   "cell_type": "markdown",
   "id": "6e95c674",
   "metadata": {
    "lang": "es"
   },
   "source": [
    "Ten cuidado con la sintaxis, en este caso cambiará, la sintaxis de la comprensión será:\n",
    "\n",
    "`[elemento si / sino para elemento en lo_que_sea]`\n",
    "\n",
    "## Comprensiones de listas anidadas\n",
    "\n",
    "Las comprensiones de listas son una característica poderosa en Python para crear listas basadas en iterables existentes de una manera concisa y legible. Las comprensiones de listas anidadas llevan este concepto más allá al permitirte crear listas de listas, a menudo referidas como \"listas anidadas\", de una manera igualmente concisa y expresiva.\n",
    "\n",
    "En las comprensiones de listas anidadas, puedes tener una o más cláusulas `for` e incluso incluir expresiones condicionales. Esta flexibilidad te permite construir estructuras de datos complejas y realizar operaciones avanzadas sobre datos anidados.\n",
    "\n",
    "Las comprensiones de listas anidadas son particularmente útiles cuando necesitas trabajar con datos multidimensionales o transformar la estructura de listas anidadas de manera eficiente. En esta sección, exploraremos cómo usar las comprensiones de listas anidadas y demostraremos sus aplicaciones a través de ejemplos.\n",
    "\n",
    "**Ejemplo:**"
   ]
  },
  {
   "cell_type": "code",
   "execution_count": null,
   "id": "de405011",
   "metadata": {},
   "outputs": [],
   "source": [
    "nested_list = [[1, 2], [3,4], [5, 6]]\n",
    "#output esperado, flat_list = [1, 2, 3, 4, 5, 6]"
   ]
  },
  {
   "cell_type": "markdown",
   "id": "18296b82",
   "metadata": {},
   "source": [
    "### For loop"
   ]
  },
  {
   "cell_type": "markdown",
   "id": "3dceac52",
   "metadata": {
    "lang": "en"
   },
   "source": [
    "Ahora creamos una lista de listas con el for loop"
   ]
  },
  {
   "cell_type": "code",
   "execution_count": null,
   "id": "c0921e98",
   "metadata": {},
   "outputs": [],
   "source": [
    "new_list = []  # Crea una lista vacía para almacenar los elementos aplanados.\n",
    "\n",
    "for i in nested_list:  # Itera a través de la lista exterior.\n",
    "    for k in i:  # Itera a través de la lista interior dentro de la lista exterior.\n",
    "        new_list.append(k)  # Agrega el elemento individual 'k' a new_list.\n",
    "\n",
    "# El resultado será una lista aplanada que contiene todos los elementos de la lista anidada."
   ]
  },
  {
   "cell_type": "markdown",
   "id": "ac27117f",
   "metadata": {},
   "source": [
    "### Comprehension list: nested lists"
   ]
  },
  {
   "cell_type": "code",
   "execution_count": null,
   "id": "7b417e31",
   "metadata": {},
   "outputs": [],
   "source": [
    "flattened_list = [k for i in nested_list for k in i]\n",
    "flattened_list"
   ]
  },
  {
   "cell_type": "markdown",
   "id": "e9c37ab7",
   "metadata": {},
   "source": [
    "#### Desaplanando una lista anidada con una comprensión de lista\n"
   ]
  },
  {
   "cell_type": "code",
   "execution_count": null,
   "id": "5f90b48b",
   "metadata": {},
   "outputs": [],
   "source": [
    "nested = [[[[1, 2], [3, 4]]]]"
   ]
  },
  {
   "cell_type": "code",
   "execution_count": null,
   "id": "cfd2c49e",
   "metadata": {},
   "outputs": [],
   "source": [
    "new_list = []\n",
    "\n",
    "for i in nested:\n",
    "    for k in i:\n",
    "        for j in k:\n",
    "            for h in j:\n",
    "                new_list.append(h)\n",
    "                \n",
    "new_list"
   ]
  },
  {
   "cell_type": "code",
   "execution_count": null,
   "id": "86fce8b4",
   "metadata": {},
   "outputs": [],
   "source": [
    "unnesting = [h for i in nested for k in i for j in k for h in j]\n",
    "unnesting"
   ]
  },
  {
   "cell_type": "markdown",
   "id": "4a95155e",
   "metadata": {},
   "source": [
    "**recordatorio amable**\n",
    "\n",
    "![](https://i.redd.it/swj8tmlan1z91.png)\n",
    "\n",
    "¿Crees que estamos respetando el zen de Python?\n",
    "\n",
    "## Comprensiones de diccionarios\n",
    "\n",
    "Las comprensiones de diccionarios son una manera concisa de crear diccionarios en Python. Te permiten generar diccionarios usando una sola línea de código, haciendo tu código más legible y eficiente. Con las comprensiones de diccionarios, puedes iterar sobre objetos iterables, como listas, y especificar tanto las claves como los valores para tu diccionario. Esta característica es particularmente útil cuando necesitas transformar o filtrar datos mientras construyes un diccionario.\n",
    "\n",
    "En esta sección, exploraremos cómo usar las comprensiones de diccionarios para crear diccionarios con facilidad y claridad. Ya sea que quieras construir diccionarios basados en datos existentes o realizar transformaciones de datos, las comprensiones de diccionarios son una herramienta valiosa en tu kit de programación en Python.\n",
    "\n",
    "¿Cómo lo haríamos con un bucle normal?"
   ]
  },
  {
   "cell_type": "code",
   "execution_count": null,
   "id": "33a452d2",
   "metadata": {},
   "outputs": [],
   "source": [
    "names = [\"Clara\", \"Albert\", \"Laura\"]\n",
    "emojis = [\"🙃\", \"☝️\", \"🫂\"]"
   ]
  },
  {
   "cell_type": "markdown",
   "id": "11a48040",
   "metadata": {},
   "source": [
    "### For loop"
   ]
  },
  {
   "cell_type": "code",
   "execution_count": null,
   "id": "4a15be40",
   "metadata": {},
   "outputs": [],
   "source": [
    "dict_ = {\n",
    "    \"Clara\": \"🙃\"\n",
    "}"
   ]
  },
  {
   "cell_type": "code",
   "execution_count": null,
   "id": "8cb35950",
   "metadata": {},
   "outputs": [],
   "source": [
    "dict_ = {}  # Crea un diccionario vacío para almacenar los pares clave-valor.\n",
    "\n",
    "# Itera a través de las listas 'names' y 'emojis' usando la función 'zip'.\n",
    "for nombre, icono in zip(names, emojis):\n",
    "    dict_[nombre] = icono  # Asigna cada 'nombre' como la clave y 'icono' como el valor en el diccionario.\n",
    "\n",
    "# El resultado será un diccionario donde 'nombre' se asigna a 'icono'."
   ]
  },
  {
   "cell_type": "markdown",
   "id": "c8d2e4fa",
   "metadata": {
    "lang": "en"
   },
   "source": [
    "### Comprehension dict"
   ]
  },
  {
   "cell_type": "code",
   "execution_count": null,
   "id": "1cd4fc87",
   "metadata": {},
   "outputs": [],
   "source": [
    "name_emoji = {nombre:icono for nombre, icono in zip(names, emojis)}"
   ]
  },
  {
   "cell_type": "code",
   "execution_count": null,
   "id": "4b9ad253",
   "metadata": {},
   "outputs": [],
   "source": [
    "name_emoji"
   ]
  },
  {
   "cell_type": "markdown",
   "id": "c33cdd0a",
   "metadata": {
    "lang": "en"
   },
   "source": [
    "## Challenge 🤔\n",
    "Te dan una lista de palabras. Escribe un diccionario que contenga la longitud de cada palabra."
   ]
  },
  {
   "cell_type": "code",
   "execution_count": null,
   "id": "db0de427",
   "metadata": {},
   "outputs": [],
   "source": [
    "list_of_words = [\"Barcelona\", \"Madrid\", \"Girona\", \"Murcia\"]"
   ]
  },
  {
   "cell_type": "markdown",
   "id": "6ecdeb74",
   "metadata": {},
   "source": [
    "### For loop"
   ]
  },
  {
   "cell_type": "code",
   "execution_count": null,
   "id": "b8a588fb",
   "metadata": {},
   "outputs": [],
   "source": []
  },
  {
   "cell_type": "markdown",
   "id": "c62375e0",
   "metadata": {},
   "source": [
    "### Comprehension dict"
   ]
  },
  {
   "cell_type": "code",
   "execution_count": null,
   "id": "15dce979",
   "metadata": {},
   "outputs": [],
   "source": []
  },
  {
   "cell_type": "markdown",
   "id": "1d669f94",
   "metadata": {},
   "source": [
    "# Business case: Customer Feedback Analysis\n",
    "\n",
    "## Business Scenario:\n",
    "Trabajas para una empresa de venta al por menor que valora la retroalimentación de los clientes. La empresa recibe comentarios de los clientes sobre sus productos y servicios. Tu tarea es analizar estos comentarios para identificar palabras clave positivas y negativas comunes mencionadas por los clientes. Tu objetivo es crear listas de palabras clave positivas y negativas a partir de los datos de retroalimentación.\n",
    "\n",
    "## Instrucciones:\n",
    "\n",
    "1. Se te proporciona una lista de comentarios de retroalimentación de los clientes. Cada comentario es una cadena de texto.\n"
   ]
  },
  {
   "cell_type": "code",
   "execution_count": null,
   "id": "a8cf1c56",
   "metadata": {},
   "outputs": [],
   "source": [
    "feedback_comments = [\n",
    "    \"The product is excellent! I love it.\",\n",
    "    \"Terrible customer service. Never buying again.\",\n",
    "    \"Great quality and fast delivery.\",\n",
    "    \"Disappointing experience. The item arrived damaged.\",\n",
    "    \"Superb value for the price.\",\n",
    "]"
   ]
  },
  {
   "cell_type": "markdown",
   "id": "b5eb7593",
   "metadata": {},
   "source": [
    "0. Proporciona el pseudocódigo\n",
    "\n",
    "1. Crear dos listas:\n",
    "\n",
    "    - `palabras_clave_positivas`: Usa una comprensión de lista para extraer palabras clave positivas de los comentarios de retroalimentación. Las palabras clave positivas son palabras como \"excelente\", \"amor\", \"genial\" y \"soberbio\".\n",
    "    - `palabras_clave_negativas`: Usa otra comprensión de lista para extraer palabras clave negativas de los comentarios de retroalimentación. Las palabras clave negativas son palabras como \"terrible\", \"decepcionante\" y \"dañado\".\n",
    "\n",
    "2. Imprime ambas listas para mostrar las palabras clave extraídas.\n",
    "\n",
    "## Consejos:\n",
    "\n",
    "- Puedes usar el método `split()` para dividir un comentario en palabras.\n",
    "- Para determinar si una palabra es positiva o negativa, puedes crear listas de palabras positivas y negativas para comparar.\n",
    "- Asegúrate de que las palabras clave estén en minúsculas para capturar variaciones en el texto."
   ]
  },
  {
   "cell_type": "code",
   "execution_count": null,
   "id": "a7a6c365",
   "metadata": {},
   "outputs": [],
   "source": [
    "# Lista de comentarios de retroalimentación\n",
    "feedback_comments = [\n",
    "    \"The service was excellent and I love the product!\",\n",
    "    \"The quality of the item was great.\",\n",
    "    \"Unfortunately, the package arrived damaged.\",\n",
    "    \"I had a superb experience with your company.\",\n",
    "    \"The product was disappointing and terrible.\",\n",
    "]\n",
    "\n",
    "# Lista de palabras clave positivas y negativas\n",
    "positive_words = [\"excellent\", \"love\", \"great\", \"superb\"]\n",
    "negative_words = [\"terrible\", \"disappointing\", \"damaged\"]\n",
    "\n",
    "# Codigo aquí\n",
    "# Positive Keywords: ['excellent', 'love', 'great', 'superb']\n",
    "# Negative Keywords: ['terrible', 'disappointing', 'damaged']"
   ]
  },
  {
   "cell_type": "markdown",
   "id": "19d8a0d8",
   "metadata": {},
   "source": [
    "# RECAP"
   ]
  },
  {
   "cell_type": "markdown",
   "id": "21163bf7",
   "metadata": {},
   "source": [
    "## Comprensiones de Lista\n",
    "\n",
    "Las comprensiones de lista son una herramienta poderosa para crear listas basadas en listas existentes, todo en una única línea de código legible. Son especialmente útiles cuando quieres transformar o filtrar datos de una lista a otra.\n",
    "\n",
    "### Sintaxis Regular vs. Comprensión\n",
    "\n",
    "Al trabajar con listas, tienes dos opciones principales: usar la sintaxis regular o usar comprensiones de lista. Cada enfoque tiene sus propias ventajas y casos de uso.\n",
    "\n",
    "#### Sintaxis Regular\n",
    "\n",
    "- **Más Fácil de Escribir:** Los bucles regulares usando declaraciones for y if son más flexibles y te permiten tener un control completo sobre lo que estás haciendo. Puedes añadir declaraciones de impresión dentro de los bucles para propósitos de depuración.\n",
    "\n",
    "- **Más Control:** Puedes usar bucles regulares para escribir lógicas y condicionales más complejas.\n",
    "\n",
    "- **Imprimir Dentro de los Bucles:** La depuración es más fácil con bucles regulares ya que puedes insertar declaraciones de impresión para ver resultados intermedios.\n",
    "\n",
    "#### Comprensión\n",
    "\n",
    "- **Más Eficiente:** Las comprensiones de lista son más eficientes y computacionalmente menos costosas, lo que las convierte en una buena elección para operaciones simples. Pueden mejorar el rendimiento del código.\n",
    "\n",
    "- **Más Simple:** Las comprensiones de lista simplifican el código reduciendo el número de pasos requeridos. No hay necesidad de crear una nueva lista y usar declaraciones de añadir.\n",
    "\n",
    "- **Más Rápido:** Las comprensiones de lista son más rápidas de escribir y a menudo resultan en código más conciso.\n",
    "\n",
    "- **Versátiles:** Se pueden usar con listas, diccionarios, conjuntos y otros objetos iterables.\n",
    "\n",
    "En resumen, las comprensiones de lista son una forma concisa y eficiente de crear listas, especialmente cuando la transformación de datos o filtrado es sencillo. Pueden mejorar tanto la legibilidad del código como el rendimiento en tales casos.\n",
    "\n",
    "## Solución"
   ]
  },
  {
   "cell_type": "code",
   "execution_count": null,
   "id": "3a778fef",
   "metadata": {},
   "outputs": [],
   "source": [
    "# List of feedback comments\n",
    "feedback_comments = [\n",
    "    \"The service was excellent and I love the product!\",\n",
    "    \"The quality of the item was great.\",\n",
    "    \"Unfortunately, the package arrived damaged.\",\n",
    "    \"I had a superb experience with your company.\",\n",
    "    \"The product was disappointing and terrible.\",\n",
    "]\n",
    "\n",
    "# List of positive and negative keywords\n",
    "positive_words = [\"excellent\", \"love\", \"great\", \"superb\"]\n",
    "negative_words = [\"terrible\", \"disappointing\", \"damaged\"]\n",
    "\n",
    "# Extract positive keywords using list comprehension\n",
    "positive_keywords = [word for comment in feedback_comments for word in comment.lower().split() if word in positive_words]\n",
    "\n",
    "# Extract negative keywords using list comprehension\n",
    "negative_keywords = [word for comment in feedback_comments for word in comment.lower().split() if word in negative_words]\n",
    "\n",
    "# Display the extracted keywords\n",
    "print(\"Positive Keywords:\", positive_keywords)\n",
    "print(\"Negative Keywords:\", negative_keywords)"
   ]
  }
 ],
 "metadata": {
  "kernelspec": {
   "display_name": "Python 3 (ipykernel)",
   "language": "python",
   "name": "python3"
  },
  "language_info": {
   "codemirror_mode": {
    "name": "ipython",
    "version": 3
   },
   "file_extension": ".py",
   "mimetype": "text/x-python",
   "name": "python",
   "nbconvert_exporter": "python",
   "pygments_lexer": "ipython3",
   "version": "3.9.13"
  },
  "nbTranslate": {
   "displayLangs": [
    "en",
    "es"
   ],
   "hotkey": "alt-a",
   "langInMainMenu": true,
   "sourceLang": "es",
   "targetLang": "en",
   "useGoogleTranslate": true
  },
  "toc": {
   "base_numbering": 1,
   "nav_menu": {},
   "number_sections": true,
   "sideBar": false,
   "skip_h1_title": true,
   "title_cell": "Table of Contents",
   "title_sidebar": "Contents",
   "toc_cell": false,
   "toc_position": {
    "height": "466px",
    "left": "91px",
    "top": "111.125px",
    "width": "256px"
   },
   "toc_section_display": true,
   "toc_window_display": false
  }
 },
 "nbformat": 4,
 "nbformat_minor": 5
}
